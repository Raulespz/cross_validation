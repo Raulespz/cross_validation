{
  "nbformat": 4,
  "nbformat_minor": 0,
  "metadata": {
    "colab": {
      "provenance": [],
      "authorship_tag": "ABX9TyNG/TYsNWQWL0LAxoDA8c9R",
      "include_colab_link": true
    },
    "kernelspec": {
      "name": "python3",
      "display_name": "Python 3"
    },
    "language_info": {
      "name": "python"
    }
  },
  "cells": [
    {
      "cell_type": "markdown",
      "metadata": {
        "id": "view-in-github",
        "colab_type": "text"
      },
      "source": [
        "<a href=\"https://colab.research.google.com/github/Raulespz/cross_validation/blob/main/Regularization_LASSO.ipynb\" target=\"_parent\"><img src=\"https://colab.research.google.com/assets/colab-badge.svg\" alt=\"Open In Colab\"/></a>"
      ]
    },
    {
      "cell_type": "code",
      "source": [
        "Bias-variance tradeoff decomposes the model's Mean Square Error into two parts: Bias and Variance.\n",
        "\n",
        "Bias- is a measure of how near the model is to the actual function we are trying to model. If your model has a high bias, the model is underfitting; this means you will do poorly on the training and test data, but the relative results will be similar.\n",
        "\n",
        "Ways to improve bias include making the model more complex, adding higher order polynomials, obtaining more features or finding more data.\n",
        "\n",
        "## Usefull INFORMATION ACCORDING TO OUR DATA TO USE THE LR, RIDGE LASSO HYPERPARAMENTERS DEPENDING IN OUR DATA:\n",
        "Variance - is the average squared difference of each model you train relative to the average prediction of each model. If your model has high variance, the model will usually overfit the data; this means you will do well on the training data but not on the testing data.\n",
        "\n",
        "\n",
        "You can improve variance by making the model less complex, i.e., lowering the order of the polynomial, obtaining more data  or using Reguliztion. There are 3 regulazation techniques discussed in this Module: Ridge, LASSO, and Elastic Net.\n",
        "\n",
        "Ridge (L2 Regularization)\n",
        "\n",
        "penalizes the size  magnitude of the regression coefficients by adding a squad term\n",
        "\n",
        "\n",
        "enforces the coefficients to be lower, but not 0\n",
        "\n",
        "\n",
        "minimizes irrelevant features and does not remove them\n",
        "\n",
        "\n",
        "faster to train\n",
        "\n",
        "\n",
        "\n",
        "LASSO (L1 Regularization)\n",
        "\n",
        "penalizes the  absolute value of the coefficients\n",
        "\n",
        "\n",
        "sets irrelevant features to 0\n",
        "\n",
        "\n",
        "finds features you don't need\n",
        "\n",
        "\n",
        "\n",
        " Elastic Net (L1+L2 Regularization)\n",
        "\n",
        "penalizes the size  magnitude of the regression and  absolute value of the coefficients\n",
        "\n",
        "\n",
        "sets irrelevant features to 0 and enforces the coefficients to be lower\n",
        "\n"
      ],
      "metadata": {
        "id": "LAFl8LSVQa8f"
      },
      "execution_count": null,
      "outputs": []
    },
    {
      "cell_type": "code",
      "execution_count": null,
      "metadata": {
        "id": "Dn2b_syAvSQp"
      },
      "outputs": [],
      "source": [
        "import os, pandas as pd, numpy as np, matplotlib.pyplot as plt, seaborn as sns\n"
      ]
    },
    {
      "cell_type": "code",
      "source": [
        "data = pd.read_csv('/content/X_Y_Sinusoid_Data.csv')\n",
        "\n",
        "x_real = np.linspace(0, 1.0, 100)\n",
        "y_real = np.sin(2 * np.pi * x_real)\n",
        "\n",
        "data.head()"
      ],
      "metadata": {
        "id": "Fgz0S0CNniQi"
      },
      "execution_count": null,
      "outputs": []
    },
    {
      "cell_type": "code",
      "source": [
        "from sklearn.preprocessing import PolynomialFeatures\n",
        "from sklearn.linear_model import LinearRegression\n",
        "\n",
        "#Setup the polinomial features\n",
        "degree = 20\n",
        "pf = PolynomialFeatures(degree)\n",
        "lr = LinearRegression()\n",
        "\n",
        "x_data = data[['x']]\n",
        "y_data = data['y']\n",
        "\n",
        "#x_data\n",
        "#y_data\n",
        "\n",
        "# create the features and fit the model\n",
        "x_poly = pf.fit_transform(x_data)\n",
        "lr = lr.fit(x_poly, y_data)\n",
        "y_pred = lr.predict(x_poly)\n",
        "\n",
        "# Plot the result\n",
        "plt.figure(figsize = (12, 8))\n",
        "plt.plot(x_data, y_data, marker='o', ls='', label='data', alpha=1)\n",
        "plt.plot(x_real, y_real, ls='--', label='real function')\n",
        "plt.plot(x_data, y_pred, marker='^', alpha=.5, label='predictions with polynomial features')\n",
        "plt.legend()\n",
        "ax = plt.gca()\n",
        "ax.set(xlabel='x data', ylabel='y data');"
      ],
      "metadata": {
        "id": "iUVDodvBofYS"
      },
      "execution_count": null,
      "outputs": []
    },
    {
      "cell_type": "code",
      "source": [
        "#Mute  the sklearn warning about regularization\n",
        "import warnings\n",
        "warnings.filterwarnings('ignore', module='sklearn')\n",
        "\n",
        "from sklearn.linear_model import Ridge, Lasso\n",
        "\n",
        "#The Ridge regression model\n",
        "rr = Ridge(alpha=0.001)\n",
        "rr = rr.fit(x_poly, y_data)\n",
        "y_pred_rr = rr.predict(x_poly)\n",
        "\n",
        "#The Lasso regression model\n",
        "lassor = Lasso(alpha=0.0001)\n",
        "lassor = lassor.fit(x_poly, y_data)\n",
        "y_pred_lr = lassor.predict(x_poly)\n",
        "\n",
        "#The plot of the predicted values\n",
        "plt.figure(figsize = (12, 8))\n",
        "plt.plot(x_data, y_data, marker='o', ls='', label='data')\n",
        "plt.plot(x_real, y_real, ls='--', label='real function')\n",
        "plt.plot(x_data, y_pred, marker='^', alpha=.5, label='predictions with polynomial features')\n",
        "plt.plot(x_data, y_pred_rr, marker='^', alpha=.5, label='ridge regression')\n",
        "plt.plot(x_data, y_pred_lr, marker='^', alpha=.5, label='lasso regression')\n",
        "\n",
        "plt.legend()\n",
        "\n",
        "ax = plt.gca()\n",
        "ax.set(xlabel='x data', ylabel='y data');\n"
      ],
      "metadata": {
        "id": "zOJsNZkxhd7t"
      },
      "execution_count": null,
      "outputs": []
    },
    {
      "cell_type": "code",
      "source": [
        "# Let's look at the absolute value of coefficients for each model\n",
        "\n",
        "coefficients = pd.DataFrame()\n",
        "coefficients['linear regression'] = lr.coef_\n",
        "coefficients['ridge regression'] = rr.coef_\n",
        "coefficients['lasso regression'] = lassor.coef_\n",
        "coefficients = coefficients.applymap(abs)\n",
        "\n",
        "coefficients.describe()     # HUge difference in scale between non-regularized vs regularized expression"
      ],
      "metadata": {
        "id": "1OfMLgexoj3t"
      },
      "execution_count": null,
      "outputs": []
    },
    {
      "cell_type": "code",
      "source": [
        "(coefficients>0).sum()"
      ],
      "metadata": {
        "id": "F63lQ01Iojri"
      },
      "execution_count": null,
      "outputs": []
    },
    {
      "cell_type": "code",
      "source": [
        "data = pd.read_csv('/content/Ames_Housing_Sales.csv')\n",
        "len(data.columns)"
      ],
      "metadata": {
        "id": "dCgVZR0iojhL"
      },
      "execution_count": null,
      "outputs": []
    },
    {
      "cell_type": "code",
      "source": [
        "#get_dummies will convert any columns that are of type object\n",
        "data = pd.get_dummies(data, drop_first=True)\n",
        "data.columns"
      ],
      "metadata": {
        "id": "hFBx5QOMviRR"
      },
      "execution_count": null,
      "outputs": []
    },
    {
      "cell_type": "code",
      "source": [
        "from sklearn.model_selection import train_test_split\n",
        "\n",
        "train, test = train_test_split(data, test_size=0.3, random_state=42)"
      ],
      "metadata": {
        "id": "DXCkrAz0viOW"
      },
      "execution_count": null,
      "outputs": []
    },
    {
      "cell_type": "code",
      "source": [
        "# Create a list of columns that are not one hot encoded\n",
        "mask = data.apply(lambda x: x.nunique())>2\n",
        "num_cols = data.columns[mask]\n",
        "num_cols"
      ],
      "metadata": {
        "id": "-61809fqviKx"
      },
      "execution_count": null,
      "outputs": []
    },
    {
      "cell_type": "code",
      "source": [
        "skew_limit = 0.75\n",
        "skew_vals = train[num_cols].skew()\n",
        "\n",
        "skew_cols = (skew_vals[skew_vals > skew_limit]\n",
        "             .sort_values(ascending=False)\n",
        "             .to_frame()\n",
        "             .rename(columns={0:'Skew'}))\n",
        "skew_cols"
      ],
      "metadata": {
        "id": "Zw23TkwSviHX"
      },
      "execution_count": null,
      "outputs": []
    },
    {
      "cell_type": "code",
      "source": [
        "from sklearn.metrics import mean_squared_error\n",
        "\n",
        "def rmse(ytrue, ypredicted):\n",
        "  return np.sqrt(mean_squared_error(ytrue, ypredicted))\n",
        ""
      ],
      "metadata": {
        "id": "u3eagTH-viDw"
      },
      "execution_count": null,
      "outputs": []
    },
    {
      "cell_type": "code",
      "source": [
        "#Mute the settings with a copy warnings\n",
        "#pd.options.mode.chained_assignment = None\n",
        "\n",
        "#for col in skew_cols.index.tolist():\n",
        "#  if col == 'SalesPrice':\n",
        "#    continue\n",
        "#  train[col] = np.loglp(train[col])\n",
        "#  test[col] = test[col].apply(np.loglp)"
      ],
      "metadata": {
        "id": "ZBBNN1G68MlW"
      },
      "execution_count": null,
      "outputs": []
    },
    {
      "cell_type": "code",
      "source": [
        "feature_cols = [x for x in train.columns if x != 'SalePrice']\n",
        "x_train = train[feature_cols]\n",
        "y_train = train['SalePrice']\n",
        "\n",
        "x_test = test[feature_cols]\n",
        "y_test = test['SalePrice']"
      ],
      "metadata": {
        "id": "LgunGNYn9AFF"
      },
      "execution_count": null,
      "outputs": []
    },
    {
      "cell_type": "code",
      "source": [
        "from sklearn.linear_model import LinearRegression\n",
        "\n",
        "linearRegression = LinearRegression().fit(x_train, y_train)\n",
        "\n",
        "linearRegression_rmse = rmse(y_test, linearRegression.predict(x_test))\n",
        "\n",
        "print(linearRegression_rmse)"
      ],
      "metadata": {
        "id": "behqttz0vh_l"
      },
      "execution_count": null,
      "outputs": []
    },
    {
      "cell_type": "code",
      "source": [
        "f = plt.figure(figsize=(6, 6))\n",
        "ax = plt.axes()\n",
        "\n",
        "ax.plot(y_test, linearRegression.predict(x_test),\n",
        "        marker='o', ls='', ms=3.0)\n",
        "\n",
        "lim = (0, y_test.max())\n",
        "\n",
        "ax.set(xlabel='Actual Price',\n",
        "       ylabel='Predicted Price',\n",
        "       xlim=lim,\n",
        "       ylim=lim,\n",
        "       title='Linear Regression Result');"
      ],
      "metadata": {
        "id": "Trm1mlSZ97se"
      },
      "execution_count": null,
      "outputs": []
    },
    {
      "cell_type": "code",
      "source": [
        "# Ridge regression uses L2 normalization to reduce the magnitude of the coeeficiens. this can be helpful\n",
        "# in situations where there is high variance. the regularization fucntions in sklearn each contain versions that have cross-validation built in.\n",
        "\n",
        "from sklearn.linear_model import RidgeCV\n",
        "\n",
        "alphas = [0.005, 0.05, 0.1, 0.3, 1, 3, 5, 10, 15, 30, 80]\n",
        "\n",
        "ridgeCV = RidgeCV(alphas = alphas,\n",
        "                  cv=4).fit(x_train, y_train)\n",
        "\n",
        "ridgeCV_rmse = rmse(y_test, ridgeCV.predict(x_test))\n",
        "\n",
        "print(ridgeCV.alpha_, ridgeCV_rmse)"
      ],
      "metadata": {
        "id": "V4PFHBiZCf4w",
        "colab": {
          "base_uri": "https://localhost:8080/"
        },
        "outputId": "826cc919-1063-4e1c-a2a9-980aa164f21e"
      },
      "execution_count": null,
      "outputs": [
        {
          "output_type": "stream",
          "name": "stdout",
          "text": [
            "10.0 33522.13670891972\n"
          ]
        }
      ]
    },
    {
      "cell_type": "code",
      "source": [
        "from sklearn.linear_model import LassoCV\n",
        "import numpy as np\n",
        "\n",
        "alphas2 = np.array([0.005, 0.05, 0.1, 0.3, 1, 3, 5, 10, 15, 30, 80, 100, 120, 140])\n",
        "\n",
        "LassoCV = LassoCV(alphas = alphas2,\n",
        "                  max_iter=500, cv=4).fit(x_train, y_train)\n",
        "\n",
        "LassoCV_rmse = rmse(y_test, LassoCV.predict(x_test))\n",
        "\n",
        "print(LassoCV.alpha_, LassoCV_rmse)"
      ],
      "metadata": {
        "id": "1VCDwzLhCt36",
        "colab": {
          "base_uri": "https://localhost:8080/"
        },
        "outputId": "a44861fe-0efe-4391-c4e5-1b791e870b27"
      },
      "execution_count": null,
      "outputs": [
        {
          "output_type": "stream",
          "name": "stdout",
          "text": [
            "80.0 51020.47779928883\n"
          ]
        }
      ]
    },
    {
      "cell_type": "code",
      "source": [
        "from sklearn.linear_model import ElasticNetCV\n",
        "\n",
        "l1_ratios = np.linspace(0.1, 0.9, 9)\n",
        "\n",
        "ElasticNetCV  = ElasticNetCV (alphas = alphas2,\n",
        "                  l1_ratio=l1_ratios, max_iter=1000).fit(x_train, y_train)\n",
        "\n",
        "elasticNetCV_rmse = rmse(y_test, ElasticNetCV.predict(x_test))\n",
        "\n",
        "print(ElasticNetCV.alpha_, ElasticNetCV.l1_ratio_, elasticNetCV_rmse)"
      ],
      "metadata": {
        "id": "tQWaVCudCttS",
        "colab": {
          "base_uri": "https://localhost:8080/"
        },
        "outputId": "717bb886-bb1b-448c-f3d6-6bbaf454030f"
      },
      "execution_count": null,
      "outputs": [
        {
          "output_type": "stream",
          "name": "stdout",
          "text": [
            "0.1 0.9 33537.54979095956\n"
          ]
        }
      ]
    },
    {
      "cell_type": "code",
      "source": [],
      "metadata": {
        "id": "4x-6nqyNCtkJ"
      },
      "execution_count": null,
      "outputs": []
    },
    {
      "cell_type": "code",
      "source": [],
      "metadata": {
        "id": "73cxCIhmCtYI"
      },
      "execution_count": null,
      "outputs": []
    }
  ]
}