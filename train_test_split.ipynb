{
  "nbformat": 4,
  "nbformat_minor": 0,
  "metadata": {
    "colab": {
      "provenance": [],
      "authorship_tag": "ABX9TyOXin4le+jtgcM+63YwEHID",
      "include_colab_link": true
    },
    "kernelspec": {
      "name": "python3",
      "display_name": "Python 3"
    },
    "language_info": {
      "name": "python"
    }
  },
  "cells": [
    {
      "cell_type": "markdown",
      "metadata": {
        "id": "view-in-github",
        "colab_type": "text"
      },
      "source": [
        "<a href=\"https://colab.research.google.com/github/Raulespz/cross_validation/blob/main/train_test_split.ipynb\" target=\"_parent\"><img src=\"https://colab.research.google.com/assets/colab-badge.svg\" alt=\"Open In Colab\"/></a>"
      ]
    },
    {
      "cell_type": "code",
      "execution_count": null,
      "metadata": {
        "id": "vFD4USjAMGNo"
      },
      "outputs": [],
      "source": [
        "import os\n",
        "data_path = ['data']"
      ]
    },
    {
      "cell_type": "code",
      "source": [
        "os.sep.join(data_path + ['Ames_Housing_Sales.csv'])"
      ],
      "metadata": {
        "colab": {
          "base_uri": "https://localhost:8080/",
          "height": 35
        },
        "id": "ef8Vc_1_MoPM",
        "outputId": "d3b35f80-4355-4d1e-9c7c-f736ba544463"
      },
      "execution_count": null,
      "outputs": [
        {
          "output_type": "execute_result",
          "data": {
            "text/plain": [
              "'data/Ames_Housing_Sales.csv'"
            ],
            "application/vnd.google.colaboratory.intrinsic+json": {
              "type": "string"
            }
          },
          "metadata": {},
          "execution_count": 2
        }
      ]
    },
    {
      "cell_type": "code",
      "source": [],
      "metadata": {
        "id": "L4XsrhARPeJJ"
      },
      "execution_count": null,
      "outputs": []
    },
    {
      "cell_type": "code",
      "source": [
        "import pandas as pd\n",
        "import numpy as np\n",
        "\n",
        "#Import the data using the file path\n",
        "filepath = os.sep.join(data_path + ['Ames_Housing_Sales.csv'])\n",
        "data = pd.read_csv(\"Ames_Housing_Sales.csv\")\n",
        "\n",
        "print(data.shape)"
      ],
      "metadata": {
        "colab": {
          "base_uri": "https://localhost:8080/"
        },
        "id": "gbpaAFvXPFUk",
        "outputId": "ef7c6372-9a11-4c46-a1b4-3d9bc7927ccd"
      },
      "execution_count": null,
      "outputs": [
        {
          "output_type": "stream",
          "name": "stdout",
          "text": [
            "(1379, 80)\n"
          ]
        }
      ]
    },
    {
      "cell_type": "code",
      "source": [
        "data.dtypes.value_counts()"
      ],
      "metadata": {
        "colab": {
          "base_uri": "https://localhost:8080/"
        },
        "id": "gEkSzJCJPFQJ",
        "outputId": "7e869463-a9bf-4f75-9d3d-0991d4863dd7"
      },
      "execution_count": null,
      "outputs": [
        {
          "output_type": "execute_result",
          "data": {
            "text/plain": [
              "object     43\n",
              "float64    21\n",
              "int64      16\n",
              "dtype: int64"
            ]
          },
          "metadata": {},
          "execution_count": 4
        }
      ]
    },
    {
      "cell_type": "code",
      "source": [
        "data.dtypes"
      ],
      "metadata": {
        "id": "Z0LEIoMFPFNE",
        "colab": {
          "base_uri": "https://localhost:8080/"
        },
        "outputId": "093429d6-8e23-41aa-8583-0ba877b1bb17"
      },
      "execution_count": null,
      "outputs": [
        {
          "output_type": "execute_result",
          "data": {
            "text/plain": [
              "1stFlrSF        float64\n",
              "2ndFlrSF        float64\n",
              "3SsnPorch       float64\n",
              "Alley            object\n",
              "BedroomAbvGr      int64\n",
              "                 ...   \n",
              "WoodDeckSF      float64\n",
              "YearBuilt         int64\n",
              "YearRemodAdd      int64\n",
              "YrSold            int64\n",
              "SalePrice       float64\n",
              "Length: 80, dtype: object"
            ]
          },
          "metadata": {},
          "execution_count": 5
        }
      ]
    },
    {
      "cell_type": "code",
      "source": [
        "np.object"
      ],
      "metadata": {
        "id": "bcdjJXmuPE4T",
        "colab": {
          "base_uri": "https://localhost:8080/"
        },
        "outputId": "8d078d3b-6d75-4bdb-c3bf-da6c39ef6fa4"
      },
      "execution_count": null,
      "outputs": [
        {
          "output_type": "stream",
          "name": "stderr",
          "text": [
            "<ipython-input-6-4921af820668>:1: DeprecationWarning: `np.object` is a deprecated alias for the builtin `object`. To silence this warning, use `object` by itself. Doing this will not modify any behavior and is safe. \n",
            "Deprecated in NumPy 1.20; for more details and guidance: https://numpy.org/devdocs/release/1.20.0-notes.html#deprecations\n",
            "  np.object\n"
          ]
        },
        {
          "output_type": "execute_result",
          "data": {
            "text/plain": [
              "object"
            ]
          },
          "metadata": {},
          "execution_count": 6
        }
      ]
    },
    {
      "cell_type": "code",
      "source": [
        "data.head(100)"
      ],
      "metadata": {
        "id": "NxPnVUM-PEv0",
        "colab": {
          "base_uri": "https://localhost:8080/",
          "height": 488
        },
        "outputId": "5be16e5f-722c-417c-f61c-1050eaa33511"
      },
      "execution_count": null,
      "outputs": [
        {
          "output_type": "execute_result",
          "data": {
            "text/plain": [
              "    1stFlrSF  2ndFlrSF  3SsnPorch Alley  BedroomAbvGr BldgType BsmtCond  \\\n",
              "0      856.0     854.0        0.0  None             3     1Fam       TA   \n",
              "1     1262.0       0.0        0.0  None             3     1Fam       TA   \n",
              "2      920.0     866.0        0.0  None             3     1Fam       TA   \n",
              "3      961.0     756.0        0.0  None             3     1Fam       Gd   \n",
              "4     1145.0    1053.0        0.0  None             4     1Fam       TA   \n",
              "..       ...       ...        ...   ...           ...      ...      ...   \n",
              "95     977.0     755.0        0.0  None             3     1Fam     None   \n",
              "96    1535.0       0.0        0.0  None             4   Duplex     None   \n",
              "97    1226.0       0.0        0.0  None             3     1Fam     None   \n",
              "98    1226.0     592.0        0.0  None             4     1Fam       TA   \n",
              "99    1053.0     939.0        0.0  None             3     1Fam     None   \n",
              "\n",
              "   BsmtExposure  BsmtFinSF1  BsmtFinSF2  ... ScreenPorch Street  TotRmsAbvGrd  \\\n",
              "0            No       706.0         0.0  ...         0.0   Pave             8   \n",
              "1            Gd       978.0         0.0  ...         0.0   Pave             6   \n",
              "2            Mn       486.0         0.0  ...         0.0   Pave             6   \n",
              "3            No       216.0         0.0  ...         0.0   Pave             7   \n",
              "4            Av       655.0         0.0  ...         0.0   Pave             9   \n",
              "..          ...         ...         ...  ...         ...    ...           ...   \n",
              "95         None         0.0         0.0  ...         0.0   Pave             7   \n",
              "96         None         0.0         0.0  ...         0.0   Pave             8   \n",
              "97         None         0.0         0.0  ...         0.0   Pave             6   \n",
              "98           No       224.0         0.0  ...       184.0   Pave             7   \n",
              "99         None         0.0         0.0  ...         0.0   Pave             9   \n",
              "\n",
              "    TotalBsmtSF Utilities  WoodDeckSF YearBuilt YearRemodAdd YrSold SalePrice  \n",
              "0         856.0    AllPub         0.0      2003         2003   2008  208500.0  \n",
              "1        1262.0    AllPub       298.0      1976         1976   2007  181500.0  \n",
              "2         920.0    AllPub         0.0      2001         2002   2008  223500.0  \n",
              "3         756.0    AllPub         0.0      1915         1970   2006  140000.0  \n",
              "4        1145.0    AllPub       192.0      2000         2000   2008  250000.0  \n",
              "..          ...       ...         ...       ...          ...    ...       ...  \n",
              "95        741.0    AllPub       192.0      1985         1985   2010  178000.0  \n",
              "96          0.0    AllPub         0.0      1979         1979   2009  118964.0  \n",
              "97       1226.0    AllPub         0.0      2009         2009   2010  198900.0  \n",
              "98       1040.0    AllPub         0.0      1931         1950   2007  169500.0  \n",
              "99       1053.0    AllPub       140.0      2003         2004   2008  250000.0  \n",
              "\n",
              "[100 rows x 80 columns]"
            ],
            "text/html": [
              "\n",
              "  <div id=\"df-68452af9-5ecf-4c50-8906-03d59dcac8eb\">\n",
              "    <div class=\"colab-df-container\">\n",
              "      <div>\n",
              "<style scoped>\n",
              "    .dataframe tbody tr th:only-of-type {\n",
              "        vertical-align: middle;\n",
              "    }\n",
              "\n",
              "    .dataframe tbody tr th {\n",
              "        vertical-align: top;\n",
              "    }\n",
              "\n",
              "    .dataframe thead th {\n",
              "        text-align: right;\n",
              "    }\n",
              "</style>\n",
              "<table border=\"1\" class=\"dataframe\">\n",
              "  <thead>\n",
              "    <tr style=\"text-align: right;\">\n",
              "      <th></th>\n",
              "      <th>1stFlrSF</th>\n",
              "      <th>2ndFlrSF</th>\n",
              "      <th>3SsnPorch</th>\n",
              "      <th>Alley</th>\n",
              "      <th>BedroomAbvGr</th>\n",
              "      <th>BldgType</th>\n",
              "      <th>BsmtCond</th>\n",
              "      <th>BsmtExposure</th>\n",
              "      <th>BsmtFinSF1</th>\n",
              "      <th>BsmtFinSF2</th>\n",
              "      <th>...</th>\n",
              "      <th>ScreenPorch</th>\n",
              "      <th>Street</th>\n",
              "      <th>TotRmsAbvGrd</th>\n",
              "      <th>TotalBsmtSF</th>\n",
              "      <th>Utilities</th>\n",
              "      <th>WoodDeckSF</th>\n",
              "      <th>YearBuilt</th>\n",
              "      <th>YearRemodAdd</th>\n",
              "      <th>YrSold</th>\n",
              "      <th>SalePrice</th>\n",
              "    </tr>\n",
              "  </thead>\n",
              "  <tbody>\n",
              "    <tr>\n",
              "      <th>0</th>\n",
              "      <td>856.0</td>\n",
              "      <td>854.0</td>\n",
              "      <td>0.0</td>\n",
              "      <td>None</td>\n",
              "      <td>3</td>\n",
              "      <td>1Fam</td>\n",
              "      <td>TA</td>\n",
              "      <td>No</td>\n",
              "      <td>706.0</td>\n",
              "      <td>0.0</td>\n",
              "      <td>...</td>\n",
              "      <td>0.0</td>\n",
              "      <td>Pave</td>\n",
              "      <td>8</td>\n",
              "      <td>856.0</td>\n",
              "      <td>AllPub</td>\n",
              "      <td>0.0</td>\n",
              "      <td>2003</td>\n",
              "      <td>2003</td>\n",
              "      <td>2008</td>\n",
              "      <td>208500.0</td>\n",
              "    </tr>\n",
              "    <tr>\n",
              "      <th>1</th>\n",
              "      <td>1262.0</td>\n",
              "      <td>0.0</td>\n",
              "      <td>0.0</td>\n",
              "      <td>None</td>\n",
              "      <td>3</td>\n",
              "      <td>1Fam</td>\n",
              "      <td>TA</td>\n",
              "      <td>Gd</td>\n",
              "      <td>978.0</td>\n",
              "      <td>0.0</td>\n",
              "      <td>...</td>\n",
              "      <td>0.0</td>\n",
              "      <td>Pave</td>\n",
              "      <td>6</td>\n",
              "      <td>1262.0</td>\n",
              "      <td>AllPub</td>\n",
              "      <td>298.0</td>\n",
              "      <td>1976</td>\n",
              "      <td>1976</td>\n",
              "      <td>2007</td>\n",
              "      <td>181500.0</td>\n",
              "    </tr>\n",
              "    <tr>\n",
              "      <th>2</th>\n",
              "      <td>920.0</td>\n",
              "      <td>866.0</td>\n",
              "      <td>0.0</td>\n",
              "      <td>None</td>\n",
              "      <td>3</td>\n",
              "      <td>1Fam</td>\n",
              "      <td>TA</td>\n",
              "      <td>Mn</td>\n",
              "      <td>486.0</td>\n",
              "      <td>0.0</td>\n",
              "      <td>...</td>\n",
              "      <td>0.0</td>\n",
              "      <td>Pave</td>\n",
              "      <td>6</td>\n",
              "      <td>920.0</td>\n",
              "      <td>AllPub</td>\n",
              "      <td>0.0</td>\n",
              "      <td>2001</td>\n",
              "      <td>2002</td>\n",
              "      <td>2008</td>\n",
              "      <td>223500.0</td>\n",
              "    </tr>\n",
              "    <tr>\n",
              "      <th>3</th>\n",
              "      <td>961.0</td>\n",
              "      <td>756.0</td>\n",
              "      <td>0.0</td>\n",
              "      <td>None</td>\n",
              "      <td>3</td>\n",
              "      <td>1Fam</td>\n",
              "      <td>Gd</td>\n",
              "      <td>No</td>\n",
              "      <td>216.0</td>\n",
              "      <td>0.0</td>\n",
              "      <td>...</td>\n",
              "      <td>0.0</td>\n",
              "      <td>Pave</td>\n",
              "      <td>7</td>\n",
              "      <td>756.0</td>\n",
              "      <td>AllPub</td>\n",
              "      <td>0.0</td>\n",
              "      <td>1915</td>\n",
              "      <td>1970</td>\n",
              "      <td>2006</td>\n",
              "      <td>140000.0</td>\n",
              "    </tr>\n",
              "    <tr>\n",
              "      <th>4</th>\n",
              "      <td>1145.0</td>\n",
              "      <td>1053.0</td>\n",
              "      <td>0.0</td>\n",
              "      <td>None</td>\n",
              "      <td>4</td>\n",
              "      <td>1Fam</td>\n",
              "      <td>TA</td>\n",
              "      <td>Av</td>\n",
              "      <td>655.0</td>\n",
              "      <td>0.0</td>\n",
              "      <td>...</td>\n",
              "      <td>0.0</td>\n",
              "      <td>Pave</td>\n",
              "      <td>9</td>\n",
              "      <td>1145.0</td>\n",
              "      <td>AllPub</td>\n",
              "      <td>192.0</td>\n",
              "      <td>2000</td>\n",
              "      <td>2000</td>\n",
              "      <td>2008</td>\n",
              "      <td>250000.0</td>\n",
              "    </tr>\n",
              "    <tr>\n",
              "      <th>...</th>\n",
              "      <td>...</td>\n",
              "      <td>...</td>\n",
              "      <td>...</td>\n",
              "      <td>...</td>\n",
              "      <td>...</td>\n",
              "      <td>...</td>\n",
              "      <td>...</td>\n",
              "      <td>...</td>\n",
              "      <td>...</td>\n",
              "      <td>...</td>\n",
              "      <td>...</td>\n",
              "      <td>...</td>\n",
              "      <td>...</td>\n",
              "      <td>...</td>\n",
              "      <td>...</td>\n",
              "      <td>...</td>\n",
              "      <td>...</td>\n",
              "      <td>...</td>\n",
              "      <td>...</td>\n",
              "      <td>...</td>\n",
              "      <td>...</td>\n",
              "    </tr>\n",
              "    <tr>\n",
              "      <th>95</th>\n",
              "      <td>977.0</td>\n",
              "      <td>755.0</td>\n",
              "      <td>0.0</td>\n",
              "      <td>None</td>\n",
              "      <td>3</td>\n",
              "      <td>1Fam</td>\n",
              "      <td>None</td>\n",
              "      <td>None</td>\n",
              "      <td>0.0</td>\n",
              "      <td>0.0</td>\n",
              "      <td>...</td>\n",
              "      <td>0.0</td>\n",
              "      <td>Pave</td>\n",
              "      <td>7</td>\n",
              "      <td>741.0</td>\n",
              "      <td>AllPub</td>\n",
              "      <td>192.0</td>\n",
              "      <td>1985</td>\n",
              "      <td>1985</td>\n",
              "      <td>2010</td>\n",
              "      <td>178000.0</td>\n",
              "    </tr>\n",
              "    <tr>\n",
              "      <th>96</th>\n",
              "      <td>1535.0</td>\n",
              "      <td>0.0</td>\n",
              "      <td>0.0</td>\n",
              "      <td>None</td>\n",
              "      <td>4</td>\n",
              "      <td>Duplex</td>\n",
              "      <td>None</td>\n",
              "      <td>None</td>\n",
              "      <td>0.0</td>\n",
              "      <td>0.0</td>\n",
              "      <td>...</td>\n",
              "      <td>0.0</td>\n",
              "      <td>Pave</td>\n",
              "      <td>8</td>\n",
              "      <td>0.0</td>\n",
              "      <td>AllPub</td>\n",
              "      <td>0.0</td>\n",
              "      <td>1979</td>\n",
              "      <td>1979</td>\n",
              "      <td>2009</td>\n",
              "      <td>118964.0</td>\n",
              "    </tr>\n",
              "    <tr>\n",
              "      <th>97</th>\n",
              "      <td>1226.0</td>\n",
              "      <td>0.0</td>\n",
              "      <td>0.0</td>\n",
              "      <td>None</td>\n",
              "      <td>3</td>\n",
              "      <td>1Fam</td>\n",
              "      <td>None</td>\n",
              "      <td>None</td>\n",
              "      <td>0.0</td>\n",
              "      <td>0.0</td>\n",
              "      <td>...</td>\n",
              "      <td>0.0</td>\n",
              "      <td>Pave</td>\n",
              "      <td>6</td>\n",
              "      <td>1226.0</td>\n",
              "      <td>AllPub</td>\n",
              "      <td>0.0</td>\n",
              "      <td>2009</td>\n",
              "      <td>2009</td>\n",
              "      <td>2010</td>\n",
              "      <td>198900.0</td>\n",
              "    </tr>\n",
              "    <tr>\n",
              "      <th>98</th>\n",
              "      <td>1226.0</td>\n",
              "      <td>592.0</td>\n",
              "      <td>0.0</td>\n",
              "      <td>None</td>\n",
              "      <td>4</td>\n",
              "      <td>1Fam</td>\n",
              "      <td>TA</td>\n",
              "      <td>No</td>\n",
              "      <td>224.0</td>\n",
              "      <td>0.0</td>\n",
              "      <td>...</td>\n",
              "      <td>184.0</td>\n",
              "      <td>Pave</td>\n",
              "      <td>7</td>\n",
              "      <td>1040.0</td>\n",
              "      <td>AllPub</td>\n",
              "      <td>0.0</td>\n",
              "      <td>1931</td>\n",
              "      <td>1950</td>\n",
              "      <td>2007</td>\n",
              "      <td>169500.0</td>\n",
              "    </tr>\n",
              "    <tr>\n",
              "      <th>99</th>\n",
              "      <td>1053.0</td>\n",
              "      <td>939.0</td>\n",
              "      <td>0.0</td>\n",
              "      <td>None</td>\n",
              "      <td>3</td>\n",
              "      <td>1Fam</td>\n",
              "      <td>None</td>\n",
              "      <td>None</td>\n",
              "      <td>0.0</td>\n",
              "      <td>0.0</td>\n",
              "      <td>...</td>\n",
              "      <td>0.0</td>\n",
              "      <td>Pave</td>\n",
              "      <td>9</td>\n",
              "      <td>1053.0</td>\n",
              "      <td>AllPub</td>\n",
              "      <td>140.0</td>\n",
              "      <td>2003</td>\n",
              "      <td>2004</td>\n",
              "      <td>2008</td>\n",
              "      <td>250000.0</td>\n",
              "    </tr>\n",
              "  </tbody>\n",
              "</table>\n",
              "<p>100 rows × 80 columns</p>\n",
              "</div>\n",
              "      <button class=\"colab-df-convert\" onclick=\"convertToInteractive('df-68452af9-5ecf-4c50-8906-03d59dcac8eb')\"\n",
              "              title=\"Convert this dataframe to an interactive table.\"\n",
              "              style=\"display:none;\">\n",
              "        \n",
              "  <svg xmlns=\"http://www.w3.org/2000/svg\" height=\"24px\"viewBox=\"0 0 24 24\"\n",
              "       width=\"24px\">\n",
              "    <path d=\"M0 0h24v24H0V0z\" fill=\"none\"/>\n",
              "    <path d=\"M18.56 5.44l.94 2.06.94-2.06 2.06-.94-2.06-.94-.94-2.06-.94 2.06-2.06.94zm-11 1L8.5 8.5l.94-2.06 2.06-.94-2.06-.94L8.5 2.5l-.94 2.06-2.06.94zm10 10l.94 2.06.94-2.06 2.06-.94-2.06-.94-.94-2.06-.94 2.06-2.06.94z\"/><path d=\"M17.41 7.96l-1.37-1.37c-.4-.4-.92-.59-1.43-.59-.52 0-1.04.2-1.43.59L10.3 9.45l-7.72 7.72c-.78.78-.78 2.05 0 2.83L4 21.41c.39.39.9.59 1.41.59.51 0 1.02-.2 1.41-.59l7.78-7.78 2.81-2.81c.8-.78.8-2.07 0-2.86zM5.41 20L4 18.59l7.72-7.72 1.47 1.35L5.41 20z\"/>\n",
              "  </svg>\n",
              "      </button>\n",
              "      \n",
              "  <style>\n",
              "    .colab-df-container {\n",
              "      display:flex;\n",
              "      flex-wrap:wrap;\n",
              "      gap: 12px;\n",
              "    }\n",
              "\n",
              "    .colab-df-convert {\n",
              "      background-color: #E8F0FE;\n",
              "      border: none;\n",
              "      border-radius: 50%;\n",
              "      cursor: pointer;\n",
              "      display: none;\n",
              "      fill: #1967D2;\n",
              "      height: 32px;\n",
              "      padding: 0 0 0 0;\n",
              "      width: 32px;\n",
              "    }\n",
              "\n",
              "    .colab-df-convert:hover {\n",
              "      background-color: #E2EBFA;\n",
              "      box-shadow: 0px 1px 2px rgba(60, 64, 67, 0.3), 0px 1px 3px 1px rgba(60, 64, 67, 0.15);\n",
              "      fill: #174EA6;\n",
              "    }\n",
              "\n",
              "    [theme=dark] .colab-df-convert {\n",
              "      background-color: #3B4455;\n",
              "      fill: #D2E3FC;\n",
              "    }\n",
              "\n",
              "    [theme=dark] .colab-df-convert:hover {\n",
              "      background-color: #434B5C;\n",
              "      box-shadow: 0px 1px 3px 1px rgba(0, 0, 0, 0.15);\n",
              "      filter: drop-shadow(0px 1px 2px rgba(0, 0, 0, 0.3));\n",
              "      fill: #FFFFFF;\n",
              "    }\n",
              "  </style>\n",
              "\n",
              "      <script>\n",
              "        const buttonEl =\n",
              "          document.querySelector('#df-68452af9-5ecf-4c50-8906-03d59dcac8eb button.colab-df-convert');\n",
              "        buttonEl.style.display =\n",
              "          google.colab.kernel.accessAllowed ? 'block' : 'none';\n",
              "\n",
              "        async function convertToInteractive(key) {\n",
              "          const element = document.querySelector('#df-68452af9-5ecf-4c50-8906-03d59dcac8eb');\n",
              "          const dataTable =\n",
              "            await google.colab.kernel.invokeFunction('convertToInteractive',\n",
              "                                                     [key], {});\n",
              "          if (!dataTable) return;\n",
              "\n",
              "          const docLinkHtml = 'Like what you see? Visit the ' +\n",
              "            '<a target=\"_blank\" href=https://colab.research.google.com/notebooks/data_table.ipynb>data table notebook</a>'\n",
              "            + ' to learn more about interactive tables.';\n",
              "          element.innerHTML = '';\n",
              "          dataTable['output_type'] = 'display_data';\n",
              "          await google.colab.output.renderOutput(dataTable, element);\n",
              "          const docLink = document.createElement('div');\n",
              "          docLink.innerHTML = docLinkHtml;\n",
              "          element.appendChild(docLink);\n",
              "        }\n",
              "      </script>\n",
              "    </div>\n",
              "  </div>\n",
              "  "
            ]
          },
          "metadata": {},
          "execution_count": 7
        }
      ]
    },
    {
      "cell_type": "code",
      "source": [
        "# select the object string columns\n",
        "mask = data.dtypes == np.object\n",
        "categorical_cols = data.columns[mask]"
      ],
      "metadata": {
        "colab": {
          "base_uri": "https://localhost:8080/"
        },
        "id": "nW7XZBxrCWZS",
        "outputId": "4feab119-5695-4375-ed63-9ca5752e651c"
      },
      "execution_count": null,
      "outputs": [
        {
          "output_type": "stream",
          "name": "stderr",
          "text": [
            "<ipython-input-8-36d3d7cd9d1b>:2: DeprecationWarning: `np.object` is a deprecated alias for the builtin `object`. To silence this warning, use `object` by itself. Doing this will not modify any behavior and is safe. \n",
            "Deprecated in NumPy 1.20; for more details and guidance: https://numpy.org/devdocs/release/1.20.0-notes.html#deprecations\n",
            "  mask = data.dtypes == np.object\n"
          ]
        }
      ]
    },
    {
      "cell_type": "code",
      "source": [
        "mask"
      ],
      "metadata": {
        "colab": {
          "base_uri": "https://localhost:8080/"
        },
        "id": "ao5W7TAHDFuq",
        "outputId": "d03fe16a-8c4f-4412-f310-9e99fd31d178"
      },
      "execution_count": null,
      "outputs": [
        {
          "output_type": "execute_result",
          "data": {
            "text/plain": [
              "1stFlrSF        False\n",
              "2ndFlrSF        False\n",
              "3SsnPorch       False\n",
              "Alley            True\n",
              "BedroomAbvGr    False\n",
              "                ...  \n",
              "WoodDeckSF      False\n",
              "YearBuilt       False\n",
              "YearRemodAdd    False\n",
              "YrSold          False\n",
              "SalePrice       False\n",
              "Length: 80, dtype: bool"
            ]
          },
          "metadata": {},
          "execution_count": 9
        }
      ]
    },
    {
      "cell_type": "code",
      "source": [
        "data[categorical_cols].apply(lambda x: x.nunique())"
      ],
      "metadata": {
        "colab": {
          "base_uri": "https://localhost:8080/"
        },
        "id": "eA7b959OEITc",
        "outputId": "50a66658-2bfd-41e5-c220-7c8adfc2a7f0"
      },
      "execution_count": null,
      "outputs": [
        {
          "output_type": "execute_result",
          "data": {
            "text/plain": [
              "Alley             3\n",
              "BldgType          5\n",
              "BsmtCond          4\n",
              "BsmtExposure      5\n",
              "BsmtFinType1      6\n",
              "BsmtFinType2      7\n",
              "BsmtQual          5\n",
              "CentralAir        2\n",
              "Condition1        9\n",
              "Condition2        8\n",
              "Electrical        5\n",
              "ExterCond         4\n",
              "ExterQual         4\n",
              "Exterior1st      14\n",
              "Exterior2nd      16\n",
              "Fence             5\n",
              "FireplaceQu       6\n",
              "Foundation        6\n",
              "Functional        7\n",
              "GarageCond        5\n",
              "GarageFinish      3\n",
              "GarageQual        5\n",
              "GarageType        6\n",
              "Heating           6\n",
              "HeatingQC         5\n",
              "HouseStyle        8\n",
              "KitchenQual       4\n",
              "LandContour       4\n",
              "LandSlope         3\n",
              "LotConfig         5\n",
              "LotShape          4\n",
              "MSZoning          5\n",
              "MasVnrType        4\n",
              "MiscFeature       5\n",
              "Neighborhood     25\n",
              "PavedDrive        3\n",
              "PoolQC            4\n",
              "RoofMatl          8\n",
              "RoofStyle         6\n",
              "SaleCondition     6\n",
              "SaleType          9\n",
              "Street            2\n",
              "Utilities         2\n",
              "dtype: int64"
            ]
          },
          "metadata": {},
          "execution_count": 10
        }
      ]
    },
    {
      "cell_type": "code",
      "source": [
        "# Determine how many columns would be created\n",
        "num_ohc_cols = (data[categorical_cols]\n",
        "                .apply(lambda x: x.nunique())\n",
        "                .sort_values(ascending=False))\n",
        "# num_ohc_cols\n",
        "\n",
        "\n",
        "# No need to encode if there is only one value\n",
        "small_num_ohc_cols = num_ohc_cols.loc[num_ohc_cols>1]\n",
        "\n",
        "# Number of one-hot columns is noe less than the number of categories\n",
        "small_num_ohc_cols -= 1\n",
        "\n",
        "#This is 215 columns, assuming the original ones are dropped.\n",
        "#This is quite a few extra columns!\n",
        "small_num_ohc_cols.sum()"
      ],
      "metadata": {
        "colab": {
          "base_uri": "https://localhost:8080/"
        },
        "id": "PTKwYIWDFHSF",
        "outputId": "44f6e735-d9da-4b6e-91ae-916850364541"
      },
      "execution_count": null,
      "outputs": [
        {
          "output_type": "execute_result",
          "data": {
            "text/plain": [
              "215"
            ]
          },
          "metadata": {},
          "execution_count": 11
        }
      ]
    },
    {
      "cell_type": "markdown",
      "source": [],
      "metadata": {
        "id": "kFsBDx9hEILX"
      }
    },
    {
      "cell_type": "code",
      "source": [
        "from sklearn.preprocessing import OneHotEncoder\n",
        "\n",
        "#Copy of the data\n",
        "data_ohc = data.copy()\n",
        "\n",
        "#create onehotencoder object\n",
        "ohc = OneHotEncoder()\n",
        "\n",
        "for col in num_ohc_cols.index:\n",
        "\n",
        "  # One hot encode the data--this returns a sparse array\n",
        "  new_dat = ohc.fit_transform(data_ohc[[col]])\n",
        "\n",
        "  # Drop original column from dataframe\n",
        "  data_ohc = data_ohc.drop(col, axis=1)\n",
        "\n",
        "  #Get names of all unique values to identy later\n",
        "  cats = ohc.categories_\n",
        "\n",
        "  #create column names for each OHE Column by value:\n",
        "  new_cols = ['_'.join([col,cat]) for cat in cats[0]]\n",
        "\n",
        "  #create the new dataframe:\n",
        "  new_df = pd.DataFrame(new_dat.toarray(),columns=new_cols)\n",
        "\n",
        "  #Append the new data to the dataframme:\n",
        "  data_ohc = pd.concat([data_ohc, new_df], axis=1)\n"
      ],
      "metadata": {
        "id": "Iu0ZzWsdJ0s3"
      },
      "execution_count": null,
      "outputs": []
    },
    {
      "cell_type": "code",
      "source": [
        "#Column difference is as calculated above\n",
        "data_ohc.shape[1] - data.shape[1]"
      ],
      "metadata": {
        "colab": {
          "base_uri": "https://localhost:8080/"
        },
        "id": "GAfyM2O117Wm",
        "outputId": "633a4e59-13a9-4c58-e5b0-5f844e12620b"
      },
      "execution_count": null,
      "outputs": [
        {
          "output_type": "execute_result",
          "data": {
            "text/plain": [
              "215"
            ]
          },
          "metadata": {},
          "execution_count": 15
        }
      ]
    },
    {
      "cell_type": "code",
      "source": [
        "print(data.shape[1])\n",
        "\n",
        "#Remove the string columns from the dataframe\n",
        "data = data.drop(num_ohc_cols.index, axis=1)\n",
        "\n",
        "print(data.shape[1])"
      ],
      "metadata": {
        "colab": {
          "base_uri": "https://localhost:8080/"
        },
        "id": "PZDCgjf02Htp",
        "outputId": "387be2dd-4832-49fd-da0a-6df5e42b8a86"
      },
      "execution_count": null,
      "outputs": [
        {
          "output_type": "stream",
          "name": "stdout",
          "text": [
            "80\n",
            "37\n"
          ]
        }
      ]
    },
    {
      "cell_type": "code",
      "source": [
        "from sklearn.model_selection import train_test_split\n",
        "\n",
        "y_col = 'SalePrice'\n",
        "\n",
        "#Split the data that is not one-hot encoded\n",
        "feature_cols = [x for x in data.columns if x != y_col]\n",
        "x_data = data[feature_cols]\n",
        "y_data = data[y_col]\n",
        "\n",
        "X_train, X_test, y_train, y_test = train_test_split(x_data, y_data,\n",
        "                                                    test_size= 0.3, random_state=42)\n",
        "\n",
        "#Split the data that is one-hot encoded\n",
        "feature_cols = [x for x in data_ohc.columns if x != y_col]\n",
        "x_data_ohc = data_ohc[feature_cols]\n",
        "y_data_ohc = data_ohc[y_col]\n",
        "\n",
        "X_train_ohc, X_test_ohc, y_train_ohc, y_test_ohc = train_test_split(x_data_ohc, y_data_ohc,\n",
        "                                                    test_size= 0.3, random_state=42)\n"
      ],
      "metadata": {
        "id": "wMcfy9lGC6qp"
      },
      "execution_count": null,
      "outputs": []
    },
    {
      "cell_type": "code",
      "source": [
        "X_train_ohc.shape"
      ],
      "metadata": {
        "colab": {
          "base_uri": "https://localhost:8080/"
        },
        "id": "gzXrVIfSEowG",
        "outputId": "44418c61-43d0-4200-e07f-816f7623be60"
      },
      "execution_count": null,
      "outputs": [
        {
          "output_type": "execute_result",
          "data": {
            "text/plain": [
              "(965, 294)"
            ]
          },
          "metadata": {},
          "execution_count": 19
        }
      ]
    },
    {
      "cell_type": "code",
      "source": [
        "(X_train_ohc.index == X_train.index).all()"
      ],
      "metadata": {
        "colab": {
          "base_uri": "https://localhost:8080/"
        },
        "id": "fj17Qoy0FLll",
        "outputId": "87da16f8-c7d7-40d9-d04f-cbe6c0ab7901"
      },
      "execution_count": null,
      "outputs": [
        {
          "output_type": "execute_result",
          "data": {
            "text/plain": [
              "True"
            ]
          },
          "metadata": {},
          "execution_count": 20
        }
      ]
    },
    {
      "cell_type": "code",
      "source": [
        "from sklearn.linear_model import LinearRegression\n",
        "from sklearn.metrics import mean_squared_error\n",
        "\n",
        "LR = LinearRegression()\n",
        "\n",
        "#Storage for error values\n",
        "error_df = list()\n",
        "\n",
        "#Data that have not been one-hot encoded\n",
        "LR = LR.fit(X_train, y_train)\n",
        "y_train_pred = LR.predict(X_train)\n",
        "y_test_pred = LR.predict(X_test)\n",
        "\n",
        "error_df.append(pd.Series({'train' : mean_squared_error(y_train, y_train_pred),\n",
        "                           'test' : mean_squared_error(y_test, y_test_pred)},\n",
        "                          name='no enc'))\n",
        "\n",
        "#Data that have been one-hot encoded\n",
        "LR = LR.fit(X_train_ohc, y_train_ohc)\n",
        "y_train_ohc_pred = LR.predict(X_train_ohc)\n",
        "y_test_ohc_pred = LR.predict(X_test_ohc)\n",
        "\n",
        "error_df.append(pd.Series({ 'train' : mean_squared_error(y_train_ohc, y_train_ohc_pred),\n",
        "                           'test' : mean_squared_error(y_test_ohc, y_test_ohc_pred)},\n",
        "                          name='no enc'))\n",
        "\n",
        "#Assemble the results\n",
        "error_df = pd.concat(error_df, axis=1)\n",
        "error_df\n"
      ],
      "metadata": {
        "colab": {
          "base_uri": "https://localhost:8080/",
          "height": 112
        },
        "id": "IqOEjiAJFVDQ",
        "outputId": "ae5a53b9-f501-4c66-89ca-811b21a6d6a7"
      },
      "execution_count": null,
      "outputs": [
        {
          "output_type": "execute_result",
          "data": {
            "text/plain": [
              "             no enc        no enc\n",
              "train  1.131507e+09  3.177271e+08\n",
              "test   1.372182e+09  5.551703e+16"
            ],
            "text/html": [
              "\n",
              "  <div id=\"df-9350f73d-8fde-4cf2-9aed-c729559ac182\">\n",
              "    <div class=\"colab-df-container\">\n",
              "      <div>\n",
              "<style scoped>\n",
              "    .dataframe tbody tr th:only-of-type {\n",
              "        vertical-align: middle;\n",
              "    }\n",
              "\n",
              "    .dataframe tbody tr th {\n",
              "        vertical-align: top;\n",
              "    }\n",
              "\n",
              "    .dataframe thead th {\n",
              "        text-align: right;\n",
              "    }\n",
              "</style>\n",
              "<table border=\"1\" class=\"dataframe\">\n",
              "  <thead>\n",
              "    <tr style=\"text-align: right;\">\n",
              "      <th></th>\n",
              "      <th>no enc</th>\n",
              "      <th>no enc</th>\n",
              "    </tr>\n",
              "  </thead>\n",
              "  <tbody>\n",
              "    <tr>\n",
              "      <th>train</th>\n",
              "      <td>1.131507e+09</td>\n",
              "      <td>3.177271e+08</td>\n",
              "    </tr>\n",
              "    <tr>\n",
              "      <th>test</th>\n",
              "      <td>1.372182e+09</td>\n",
              "      <td>5.551703e+16</td>\n",
              "    </tr>\n",
              "  </tbody>\n",
              "</table>\n",
              "</div>\n",
              "      <button class=\"colab-df-convert\" onclick=\"convertToInteractive('df-9350f73d-8fde-4cf2-9aed-c729559ac182')\"\n",
              "              title=\"Convert this dataframe to an interactive table.\"\n",
              "              style=\"display:none;\">\n",
              "        \n",
              "  <svg xmlns=\"http://www.w3.org/2000/svg\" height=\"24px\"viewBox=\"0 0 24 24\"\n",
              "       width=\"24px\">\n",
              "    <path d=\"M0 0h24v24H0V0z\" fill=\"none\"/>\n",
              "    <path d=\"M18.56 5.44l.94 2.06.94-2.06 2.06-.94-2.06-.94-.94-2.06-.94 2.06-2.06.94zm-11 1L8.5 8.5l.94-2.06 2.06-.94-2.06-.94L8.5 2.5l-.94 2.06-2.06.94zm10 10l.94 2.06.94-2.06 2.06-.94-2.06-.94-.94-2.06-.94 2.06-2.06.94z\"/><path d=\"M17.41 7.96l-1.37-1.37c-.4-.4-.92-.59-1.43-.59-.52 0-1.04.2-1.43.59L10.3 9.45l-7.72 7.72c-.78.78-.78 2.05 0 2.83L4 21.41c.39.39.9.59 1.41.59.51 0 1.02-.2 1.41-.59l7.78-7.78 2.81-2.81c.8-.78.8-2.07 0-2.86zM5.41 20L4 18.59l7.72-7.72 1.47 1.35L5.41 20z\"/>\n",
              "  </svg>\n",
              "      </button>\n",
              "      \n",
              "  <style>\n",
              "    .colab-df-container {\n",
              "      display:flex;\n",
              "      flex-wrap:wrap;\n",
              "      gap: 12px;\n",
              "    }\n",
              "\n",
              "    .colab-df-convert {\n",
              "      background-color: #E8F0FE;\n",
              "      border: none;\n",
              "      border-radius: 50%;\n",
              "      cursor: pointer;\n",
              "      display: none;\n",
              "      fill: #1967D2;\n",
              "      height: 32px;\n",
              "      padding: 0 0 0 0;\n",
              "      width: 32px;\n",
              "    }\n",
              "\n",
              "    .colab-df-convert:hover {\n",
              "      background-color: #E2EBFA;\n",
              "      box-shadow: 0px 1px 2px rgba(60, 64, 67, 0.3), 0px 1px 3px 1px rgba(60, 64, 67, 0.15);\n",
              "      fill: #174EA6;\n",
              "    }\n",
              "\n",
              "    [theme=dark] .colab-df-convert {\n",
              "      background-color: #3B4455;\n",
              "      fill: #D2E3FC;\n",
              "    }\n",
              "\n",
              "    [theme=dark] .colab-df-convert:hover {\n",
              "      background-color: #434B5C;\n",
              "      box-shadow: 0px 1px 3px 1px rgba(0, 0, 0, 0.15);\n",
              "      filter: drop-shadow(0px 1px 2px rgba(0, 0, 0, 0.3));\n",
              "      fill: #FFFFFF;\n",
              "    }\n",
              "  </style>\n",
              "\n",
              "      <script>\n",
              "        const buttonEl =\n",
              "          document.querySelector('#df-9350f73d-8fde-4cf2-9aed-c729559ac182 button.colab-df-convert');\n",
              "        buttonEl.style.display =\n",
              "          google.colab.kernel.accessAllowed ? 'block' : 'none';\n",
              "\n",
              "        async function convertToInteractive(key) {\n",
              "          const element = document.querySelector('#df-9350f73d-8fde-4cf2-9aed-c729559ac182');\n",
              "          const dataTable =\n",
              "            await google.colab.kernel.invokeFunction('convertToInteractive',\n",
              "                                                     [key], {});\n",
              "          if (!dataTable) return;\n",
              "\n",
              "          const docLinkHtml = 'Like what you see? Visit the ' +\n",
              "            '<a target=\"_blank\" href=https://colab.research.google.com/notebooks/data_table.ipynb>data table notebook</a>'\n",
              "            + ' to learn more about interactive tables.';\n",
              "          element.innerHTML = '';\n",
              "          dataTable['output_type'] = 'display_data';\n",
              "          await google.colab.output.renderOutput(dataTable, element);\n",
              "          const docLink = document.createElement('div');\n",
              "          docLink.innerHTML = docLinkHtml;\n",
              "          element.appendChild(docLink);\n",
              "        }\n",
              "      </script>\n",
              "    </div>\n",
              "  </div>\n",
              "  "
            ]
          },
          "metadata": {},
          "execution_count": 31
        }
      ]
    },
    {
      "cell_type": "code",
      "source": [
        "# Mute the setting with a coppy warnings\n",
        "pd.options.mode.chained_assigment = None"
      ],
      "metadata": {
        "id": "6o1L-UcZFVAC"
      },
      "execution_count": null,
      "outputs": []
    },
    {
      "cell_type": "code",
      "source": [
        "from sklearn.preprocessing import StandardScaler, MinMaxScaler\n",
        "\n",
        "scalers= {'standard' : StandardScaler(),\n",
        "          'minmax' : MinMaxScaler()}\n",
        "\n",
        "#inizialize mode1\n",
        "LR = LinearRegression()\n",
        "\n",
        "#iterate over all possible combinations and get the errors\n",
        "errors = {}\n",
        "for scaler_label, scaler in scalers.items():\n",
        "  trainingset = scaler.fit_transform(X_train)\n",
        "  testset = scaler.transform(X_test)\n",
        "  LR.fit(trainingset, y_train)\n",
        "  predictions = LR.predict(testset)\n",
        "  key = scaler_label + 'scaling:'\n",
        "  errors[key] = mean_squared_error(y_test, predictions)\n",
        "\n",
        "errors = pd.Series(errors)\n",
        "\n",
        "for key, error_val in errors.items():\n",
        "  print(key, error_val)"
      ],
      "metadata": {
        "colab": {
          "base_uri": "https://localhost:8080/"
        },
        "id": "HQ_ZxczoFU5I",
        "outputId": "d1cbde6e-99bd-4ab3-8a15-49f1e1e509c0"
      },
      "execution_count": null,
      "outputs": [
        {
          "output_type": "stream",
          "name": "stdout",
          "text": [
            "standardscaling: 1373538557.4928713\n",
            "minmaxscaling: 1372182358.9345078\n"
          ]
        }
      ]
    },
    {
      "cell_type": "code",
      "source": [
        "import matplotlib.pyplot as plt\n",
        "import seaborn as sns\n",
        "%matplotlib inline\n",
        "\n",
        "\n",
        "sns.set_context('talk')\n",
        "sns.set_style('ticks')\n",
        "sns.set_palette('dark')\n",
        "\n",
        "ax = plt.axes()\n",
        "#we are going to use y_test, y_test_pred\n",
        "ax.scatter(y_test, y_test_pred, alpha=.5)\n",
        "\n",
        "ax.set(xlabel = 'ground truth',\n",
        "       ylabel = 'Predictions',\n",
        "       title = 'Ames, Iowa House Price Predictions vs Truth, using Linear Regression');"
      ],
      "metadata": {
        "colab": {
          "base_uri": "https://localhost:8080/",
          "height": 503
        },
        "id": "EfGyLauwtLdO",
        "outputId": "04a20692-d108-452c-c431-4bb891f830a1"
      },
      "execution_count": null,
      "outputs": [
        {
          "output_type": "display_data",
          "data": {
            "text/plain": [
              "<Figure size 640x480 with 1 Axes>"
            ],
            "image/png": "[encoded data removed]"
          },
          "metadata": {}
        }
      ]
    },
    {
      "cell_type": "code",
      "source": [],
      "metadata": {
        "id": "ZK5rg95KtLVB"
      },
      "execution_count": null,
      "outputs": []
    },
    {
      "cell_type": "code",
      "source": [],
      "metadata": {
        "id": "mUta8ZXdtLRd"
      },
      "execution_count": null,
      "outputs": []
    },
    {
      "cell_type": "code",
      "source": [],
      "metadata": {
        "id": "E796sPlttLN_"
      },
      "execution_count": null,
      "outputs": []
    }
  ]
}