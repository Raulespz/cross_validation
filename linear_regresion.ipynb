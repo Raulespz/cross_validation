{
  "nbformat": 4,
  "nbformat_minor": 0,
  "metadata": {
    "colab": {
      "provenance": [],
      "authorship_tag": "ABX9TyNH4dRhFSiyZ1xtqGL0+M56",
      "include_colab_link": true
    },
    "kernelspec": {
      "name": "python3",
      "display_name": "Python 3"
    },
    "language_info": {
      "name": "python"
    },
    "accelerator": "TPU",
    "gpuClass": "standard"
  },
  "cells": [
    {
      "cell_type": "markdown",
      "metadata": {
        "id": "view-in-github",
        "colab_type": "text"
      },
      "source": [
        "<a href=\"https://colab.research.google.com/github/Raulespz/cross_validation/blob/main/linear_regresion.ipynb\" target=\"_parent\"><img src=\"https://colab.research.google.com/assets/colab-badge.svg\" alt=\"Open In Colab\"/></a>"
      ]
    },
    {
      "cell_type": "code",
      "execution_count": null,
      "metadata": {
        "id": "EnBKAdIQCmKM"
      },
      "outputs": [],
      "source": [
        "#import folium\n",
        "\n",
        "#inty = 5\n",
        "#listy = [6, 7]\n",
        "\n",
        "#stringy = \"Hi\"\n",
        "#azores = folium.folium.Map(location = (38, -27), zoom_start = 6)\n",
        "\n",
        "#print(azores)"
      ]
    },
    {
      "cell_type": "code",
      "source": [],
      "metadata": {
        "id": "nqvmq6KSMApm"
      },
      "execution_count": null,
      "outputs": []
    },
    {
      "cell_type": "code",
      "source": [
        "# This practece is developed for regression context in ML\n",
        "\n",
        "#import numpy as np\n",
        "#import pandas as pd\n",
        "#import matplotlib.pyplot as plt\n",
        "\n",
        "#data = pd.read_csv('/content/boston_housing_clean (2).pickle')\n",
        "\n",
        "#print(data.head())"
      ],
      "metadata": {
        "id": "Qi57GU2iJmtw"
      },
      "execution_count": null,
      "outputs": []
    },
    {
      "cell_type": "code",
      "source": [
        "# In the video we have in the second celda\n",
        "\n",
        "# from helper import boston_dataframe\n",
        "# boston_data = boston_dataframe()\n",
        "# boston_data.head(15)\n",
        "\n",
        "# here our dataframe is going to be:\n",
        "# This is our dataframe:\n",
        "\n",
        "# df = data['dataframe']\n"
      ],
      "metadata": {
        "id": "apIwo1QwVge-"
      },
      "execution_count": null,
      "outputs": []
    },
    {
      "cell_type": "code",
      "source": [
        "import numpy as np\n",
        "import pandas as pd\n",
        "import pickle\n",
        "import matplotlib.pyplot as plt\n",
        "\n",
        "# Load the pickled file\n",
        "with open('boston_housing_clean (2).pickle', 'rb') as f:\n",
        "    data = pickle.load(f)\n",
        "\n",
        "# Do something with the data\n",
        "print(data)\n",
        "# print(data.head(10))\n",
        "\n",
        "# Check the keys of the dictionary\n",
        "print(data.keys())"
      ],
      "metadata": {
        "colab": {
          "base_uri": "https://localhost:8080/"
        },
        "id": "V8Vl4a4WSc7P",
        "outputId": "b4625645-47b5-49c5-81c3-23533961ad14"
      },
      "execution_count": null,
      "outputs": [
        {
          "output_type": "stream",
          "name": "stdout",
          "text": [
            "{'dataframe':         CRIM    ZN  INDUS  CHAS    NOX     RM   AGE     DIS  RAD    TAX  \\\n",
            "0    0.00632  18.0   2.31   0.0  0.538  6.575  65.2  4.0900  1.0  296.0   \n",
            "1    0.02731   0.0   7.07   0.0  0.469  6.421  78.9  4.9671  2.0  242.0   \n",
            "2    0.02729   0.0   7.07   0.0  0.469  7.185  61.1  4.9671  2.0  242.0   \n",
            "3    0.03237   0.0   2.18   0.0  0.458  6.998  45.8  6.0622  3.0  222.0   \n",
            "4    0.06905   0.0   2.18   0.0  0.458  7.147  54.2  6.0622  3.0  222.0   \n",
            "..       ...   ...    ...   ...    ...    ...   ...     ...  ...    ...   \n",
            "501  0.06263   0.0  11.93   0.0  0.573  6.593  69.1  2.4786  1.0  273.0   \n",
            "502  0.04527   0.0  11.93   0.0  0.573  6.120  76.7  2.2875  1.0  273.0   \n",
            "503  0.06076   0.0  11.93   0.0  0.573  6.976  91.0  2.1675  1.0  273.0   \n",
            "504  0.10959   0.0  11.93   0.0  0.573  6.794  89.3  2.3889  1.0  273.0   \n",
            "505  0.04741   0.0  11.93   0.0  0.573  6.030  80.8  2.5050  1.0  273.0   \n",
            "\n",
            "     PTRATIO       B  LSTAT  MEDV  \n",
            "0       15.3  396.90   4.98  24.0  \n",
            "1       17.8  396.90   9.14  21.6  \n",
            "2       17.8  392.83   4.03  34.7  \n",
            "3       18.7  394.63   2.94  33.4  \n",
            "4       18.7  396.90   5.33  36.2  \n",
            "..       ...     ...    ...   ...  \n",
            "501     21.0  391.99   9.67  22.4  \n",
            "502     21.0  396.90   9.08  20.6  \n",
            "503     21.0  396.90   5.64  23.9  \n",
            "504     21.0  393.45   6.48  22.0  \n",
            "505     21.0  396.90   7.88  11.9  \n",
            "\n",
            "[506 rows x 14 columns], 'description': \"Boston House Prices dataset\\n===========================\\n\\nNotes\\n------\\nData Set Characteristics:  \\n\\n    :Number of Instances: 506 \\n\\n    :Number of Attributes: 13 numeric/categorical predictive\\n    \\n    :Median Value (attribute 14) is usually the target\\n\\n    :Attribute Information (in order):\\n        - CRIM     per capita crime rate by town\\n        - ZN       proportion of residential land zoned for lots over 25,000 sq.ft.\\n        - INDUS    proportion of non-retail business acres per town\\n        - CHAS     Charles River dummy variable (= 1 if tract bounds river; 0 otherwise)\\n        - NOX      nitric oxides concentration (parts per 10 million)\\n        - RM       average number of rooms per dwelling\\n        - AGE      proportion of owner-occupied units built prior to 1940\\n        - DIS      weighted distances to five Boston employment centres\\n        - RAD      index of accessibility to radial highways\\n        - TAX      full-value property-tax rate per $10,000\\n        - PTRATIO  pupil-teacher ratio by town\\n        - B        1000(Bk - 0.63)^2 where Bk is the proportion of blacks by town\\n        - LSTAT    % lower status of the population\\n        - MEDV     Median value of owner-occupied homes in $1000's\\n\\n    :Missing Attribute Values: None\\n\\n    :Creator: Harrison, D. and Rubinfeld, D.L.\\n\\nThis is a copy of UCI ML housing dataset.\\nhttp://archive.ics.uci.edu/ml/datasets/Housing\\n\\n\\nThis dataset was taken from the StatLib library which is maintained at Carnegie Mellon University.\\n\\nThe Boston house-price data of Harrison, D. and Rubinfeld, D.L. 'Hedonic\\nprices and the demand for clean air', J. Environ. Economics & Management,\\nvol.5, 81-102, 1978.   Used in Belsley, Kuh & Welsch, 'Regression diagnostics\\n...', Wiley, 1980.   N.B. Various transformations are used in the table on\\npages 244-261 of the latter.\\n\\nThe Boston house-price data has been used in many machine learning papers that address regression\\nproblems.   \\n     \\n**References**\\n\\n   - Belsley, Kuh & Welsch, 'Regression diagnostics: Identifying Influential Data and Sources of Collinearity', Wiley, 1980. 244-261.\\n   - Quinlan,R. (1993). Combining Instance-Based and Model-Based Learning. In Proceedings on the Tenth International Conference of Machine Learning, 236-243, University of Massachusetts, Amherst. Morgan Kaufmann.\\n   - many more! (see http://archive.ics.uci.edu/ml/datasets/Housing)\\n\"}\n",
            "dict_keys(['dataframe', 'description'])\n"
          ]
        }
      ]
    },
    {
      "cell_type": "code",
      "source": [
        "import warnings\n",
        "warnings.simplefilter(\"ignore\")"
      ],
      "metadata": {
        "id": "bsSLaVhFQYzR"
      },
      "execution_count": null,
      "outputs": []
    },
    {
      "cell_type": "code",
      "source": [
        "# Check the keys of the dictionary\n",
        "print(data.keys())"
      ],
      "metadata": {
        "colab": {
          "base_uri": "https://localhost:8080/"
        },
        "id": "5HG4MglIFkL7",
        "outputId": "d11bc1f1-5eea-4cdf-ba7e-cb690382e3fa"
      },
      "execution_count": null,
      "outputs": [
        {
          "output_type": "stream",
          "name": "stdout",
          "text": [
            "dict_keys(['dataframe', 'description'])\n"
          ]
        }
      ]
    },
    {
      "cell_type": "code",
      "source": [
        "with open('boston_housing_clean (2).pickle', 'rb') as f:\n",
        "    data = pickle.load(f)\n",
        "\n",
        "# Get the DataFrame from the dictionary\n",
        "df = data['dataframe']\n",
        "\n",
        "# In the video we have in the second celda\n",
        "\n",
        "# from helper import boston_dataframe\n",
        "# boston_data = boston_dataframe()\n",
        "# boston_data.head(15)\n",
        "\n",
        "# here our dataframe is going to be:\n",
        "# This is our dataframe:\n",
        "\n",
        "# df = data['dataframe']\n",
        "\n",
        "# Plot a histogram of the MEDV column\n",
        "df['MEDV'].hist()\n",
        "plt.xlabel('MEDV')\n",
        "plt.ylabel('Frequency')\n",
        "plt.show()"
      ],
      "metadata": {
        "colab": {
          "base_uri": "https://localhost:8080/",
          "height": 451
        },
        "id": "nNcyYM6PGHBJ",
        "outputId": "5a4eb06c-c0bf-46ff-cc40-5991485c4194"
      },
      "execution_count": null,
      "outputs": [
        {
          "output_type": "display_data",
          "data": {
            "text/plain": [
              "<Figure size 640x480 with 1 Axes>"
            ],
            "image/png": "[encoded data removed]"
          },
          "metadata": {}
        }
      ]
    },
    {
      "cell_type": "code",
      "source": [
        "log_medv"
      ],
      "metadata": {
        "id": "M4JdqfxYgNko",
        "colab": {
          "base_uri": "https://localhost:8080/",
          "height": 167
        },
        "outputId": "cadfbb57-0fff-4c31-b8a0-a14d77c102b6"
      },
      "execution_count": null,
      "outputs": [
        {
          "output_type": "error",
          "ename": "NameError",
          "evalue": "ignored",
          "traceback": [
            "\u001b[0;31m---------------------------------------------------------------------------\u001b[0m",
            "\u001b[0;31mNameError\u001b[0m                                 Traceback (most recent call last)",
            "\u001b[0;32m<ipython-input-9-44040dc36382>\u001b[0m in \u001b[0;36m<cell line: 1>\u001b[0;34m()\u001b[0m\n\u001b[0;32m----> 1\u001b[0;31m \u001b[0mlog_medv\u001b[0m\u001b[0;34m\u001b[0m\u001b[0;34m\u001b[0m\u001b[0m\n\u001b[0m",
            "\u001b[0;31mNameError\u001b[0m: name 'log_medv' is not defined"
          ]
        }
      ]
    },
    {
      "cell_type": "code",
      "source": [
        "log_medv.hist();"
      ],
      "metadata": {
        "id": "bRUFgs3mgZf_",
        "colab": {
          "base_uri": "https://localhost:8080/",
          "height": 167
        },
        "outputId": "310b290a-86ee-4d99-f92d-e3c2670bed6d"
      },
      "execution_count": null,
      "outputs": [
        {
          "output_type": "error",
          "ename": "NameError",
          "evalue": "ignored",
          "traceback": [
            "\u001b[0;31m---------------------------------------------------------------------------\u001b[0m",
            "\u001b[0;31mNameError\u001b[0m                                 Traceback (most recent call last)",
            "\u001b[0;32m<ipython-input-10-743e8a1b008b>\u001b[0m in \u001b[0;36m<cell line: 1>\u001b[0;34m()\u001b[0m\n\u001b[0;32m----> 1\u001b[0;31m \u001b[0mlog_medv\u001b[0m\u001b[0;34m.\u001b[0m\u001b[0mhist\u001b[0m\u001b[0;34m(\u001b[0m\u001b[0;34m)\u001b[0m\u001b[0;34m;\u001b[0m\u001b[0;34m\u001b[0m\u001b[0;34m\u001b[0m\u001b[0m\n\u001b[0m",
            "\u001b[0;31mNameError\u001b[0m: name 'log_medv' is not defined"
          ]
        }
      ]
    },
    {
      "cell_type": "code",
      "source": [
        "normaltest(log_medv)"
      ],
      "metadata": {
        "id": "mu2VnufXhC-i",
        "colab": {
          "base_uri": "https://localhost:8080/",
          "height": 167
        },
        "outputId": "a48d8142-c969-4df7-c409-967c3b1f1f46"
      },
      "execution_count": null,
      "outputs": [
        {
          "output_type": "error",
          "ename": "NameError",
          "evalue": "ignored",
          "traceback": [
            "\u001b[0;31m---------------------------------------------------------------------------\u001b[0m",
            "\u001b[0;31mNameError\u001b[0m                                 Traceback (most recent call last)",
            "\u001b[0;32m<ipython-input-11-44ab9715e6f0>\u001b[0m in \u001b[0;36m<cell line: 1>\u001b[0;34m()\u001b[0m\n\u001b[0;32m----> 1\u001b[0;31m \u001b[0mnormaltest\u001b[0m\u001b[0;34m(\u001b[0m\u001b[0mlog_medv\u001b[0m\u001b[0;34m)\u001b[0m\u001b[0;34m\u001b[0m\u001b[0;34m\u001b[0m\u001b[0m\n\u001b[0m",
            "\u001b[0;31mNameError\u001b[0m: name 'normaltest' is not defined"
          ]
        }
      ]
    },
    {
      "cell_type": "code",
      "source": [
        "# So with the previous results we got a p value very low to reject the nule hypothesis and get a result close to the nirmal distribution although the problem is that the image\n",
        "# does not show a suitable normal distribution, then I have to continuing finding a normal distribution"
      ],
      "metadata": {
        "id": "OzXs6DhrhPoO"
      },
      "execution_count": null,
      "outputs": []
    },
    {
      "cell_type": "code",
      "source": [
        "import numpy as np\n",
        "import pandas as pd\n",
        "import pickle\n",
        "\n",
        "# Load the pickled file\n",
        "with open('boston_housing_clean (2).pickle', 'rb') as f:\n",
        "    data = pickle.load(f)\n",
        "\n",
        "# Do something with the data\n",
        "print(data)\n",
        "# print(data.head(10))"
      ],
      "metadata": {
        "id": "A1QAfC2aG8Bl",
        "colab": {
          "base_uri": "https://localhost:8080/"
        },
        "outputId": "e3d17fba-fd04-4a8f-e29b-43d4461f3eb2"
      },
      "execution_count": null,
      "outputs": [
        {
          "output_type": "stream",
          "name": "stdout",
          "text": [
            "{'dataframe':         CRIM    ZN  INDUS  CHAS    NOX     RM   AGE     DIS  RAD    TAX  \\\n",
            "0    0.00632  18.0   2.31   0.0  0.538  6.575  65.2  4.0900  1.0  296.0   \n",
            "1    0.02731   0.0   7.07   0.0  0.469  6.421  78.9  4.9671  2.0  242.0   \n",
            "2    0.02729   0.0   7.07   0.0  0.469  7.185  61.1  4.9671  2.0  242.0   \n",
            "3    0.03237   0.0   2.18   0.0  0.458  6.998  45.8  6.0622  3.0  222.0   \n",
            "4    0.06905   0.0   2.18   0.0  0.458  7.147  54.2  6.0622  3.0  222.0   \n",
            "..       ...   ...    ...   ...    ...    ...   ...     ...  ...    ...   \n",
            "501  0.06263   0.0  11.93   0.0  0.573  6.593  69.1  2.4786  1.0  273.0   \n",
            "502  0.04527   0.0  11.93   0.0  0.573  6.120  76.7  2.2875  1.0  273.0   \n",
            "503  0.06076   0.0  11.93   0.0  0.573  6.976  91.0  2.1675  1.0  273.0   \n",
            "504  0.10959   0.0  11.93   0.0  0.573  6.794  89.3  2.3889  1.0  273.0   \n",
            "505  0.04741   0.0  11.93   0.0  0.573  6.030  80.8  2.5050  1.0  273.0   \n",
            "\n",
            "     PTRATIO       B  LSTAT  MEDV  \n",
            "0       15.3  396.90   4.98  24.0  \n",
            "1       17.8  396.90   9.14  21.6  \n",
            "2       17.8  392.83   4.03  34.7  \n",
            "3       18.7  394.63   2.94  33.4  \n",
            "4       18.7  396.90   5.33  36.2  \n",
            "..       ...     ...    ...   ...  \n",
            "501     21.0  391.99   9.67  22.4  \n",
            "502     21.0  396.90   9.08  20.6  \n",
            "503     21.0  396.90   5.64  23.9  \n",
            "504     21.0  393.45   6.48  22.0  \n",
            "505     21.0  396.90   7.88  11.9  \n",
            "\n",
            "[506 rows x 14 columns], 'description': \"Boston House Prices dataset\\n===========================\\n\\nNotes\\n------\\nData Set Characteristics:  \\n\\n    :Number of Instances: 506 \\n\\n    :Number of Attributes: 13 numeric/categorical predictive\\n    \\n    :Median Value (attribute 14) is usually the target\\n\\n    :Attribute Information (in order):\\n        - CRIM     per capita crime rate by town\\n        - ZN       proportion of residential land zoned for lots over 25,000 sq.ft.\\n        - INDUS    proportion of non-retail business acres per town\\n        - CHAS     Charles River dummy variable (= 1 if tract bounds river; 0 otherwise)\\n        - NOX      nitric oxides concentration (parts per 10 million)\\n        - RM       average number of rooms per dwelling\\n        - AGE      proportion of owner-occupied units built prior to 1940\\n        - DIS      weighted distances to five Boston employment centres\\n        - RAD      index of accessibility to radial highways\\n        - TAX      full-value property-tax rate per $10,000\\n        - PTRATIO  pupil-teacher ratio by town\\n        - B        1000(Bk - 0.63)^2 where Bk is the proportion of blacks by town\\n        - LSTAT    % lower status of the population\\n        - MEDV     Median value of owner-occupied homes in $1000's\\n\\n    :Missing Attribute Values: None\\n\\n    :Creator: Harrison, D. and Rubinfeld, D.L.\\n\\nThis is a copy of UCI ML housing dataset.\\nhttp://archive.ics.uci.edu/ml/datasets/Housing\\n\\n\\nThis dataset was taken from the StatLib library which is maintained at Carnegie Mellon University.\\n\\nThe Boston house-price data of Harrison, D. and Rubinfeld, D.L. 'Hedonic\\nprices and the demand for clean air', J. Environ. Economics & Management,\\nvol.5, 81-102, 1978.   Used in Belsley, Kuh & Welsch, 'Regression diagnostics\\n...', Wiley, 1980.   N.B. Various transformations are used in the table on\\npages 244-261 of the latter.\\n\\nThe Boston house-price data has been used in many machine learning papers that address regression\\nproblems.   \\n     \\n**References**\\n\\n   - Belsley, Kuh & Welsch, 'Regression diagnostics: Identifying Influential Data and Sources of Collinearity', Wiley, 1980. 244-261.\\n   - Quinlan,R. (1993). Combining Instance-Based and Model-Based Learning. In Proceedings on the Tenth International Conference of Machine Learning, 236-243, University of Massachusetts, Amherst. Morgan Kaufmann.\\n   - many more! (see http://archive.ics.uci.edu/ml/datasets/Housing)\\n\"}\n"
          ]
        }
      ]
    },
    {
      "cell_type": "code",
      "source": [
        "from scipy.stats import normaltest\n",
        "\n",
        "normaltest(df.MEDV.values)\n",
        "\n",
        "# Without geting into Bayesian vs frequestist debates, for the purposes of the lesson, the folowing wil suffice:\n",
        "\n",
        "#Without getting into Bayesian vs. frequentist debates, for the purposes of this lesson, the following will suffice:\n",
        "\n",
        "#+ This is a statistical test that tests whether a distribution is normally distributed or not. It isn't perfect, but suffice it to say:\n",
        "#‘+ This test outputs a \"p-value\". The higher this p-value is the closer the distribution is to normal.\n",
        "#‘+ Frequentist statisticians would say that you accept that the distribution is normal (more specifically: fail to reject the null hypothesis that it is normal) if\n",
        "#p>0.05.\n",
        "\n",
        "##Linear Regression assumes a normally distributed residuals which can be aided by transforming y variable. Let's try some common transformations to try and\n",
        "#get y to be normally distributed:\n",
        "\n",
        "#+ Log\n",
        "#+ Square root\n",
        "#* Box cox"
      ],
      "metadata": {
        "id": "8hWxXu7oSWlf",
        "colab": {
          "base_uri": "https://localhost:8080/"
        },
        "outputId": "88093a25-84c5-4f99-812c-6b0e77989c3b"
      },
      "execution_count": null,
      "outputs": [
        {
          "output_type": "execute_result",
          "data": {
            "text/plain": [
              "NormaltestResult(statistic=90.9746873700967, pvalue=1.7583188871696095e-20)"
            ]
          },
          "metadata": {},
          "execution_count": 14
        }
      ]
    },
    {
      "cell_type": "code",
      "source": [
        "# As the p-value of  the previous calculation is extremelly low (pvalue=1.7583188871696095e-20), then\n",
        "# We outcome that is not normally distributed.\n",
        "\n",
        "# Testing log\n",
        "# The log could transform to normally distributed:\n",
        "\n",
        "data = plot_exponential_data()\n",
        "\n",
        "plt.hist(np.log(data))\n"
      ],
      "metadata": {
        "id": "djgS-_4XXENv",
        "colab": {
          "base_uri": "https://localhost:8080/",
          "height": 237
        },
        "outputId": "86c9fc93-ba39-4323-a062-0d4c261f1b94"
      },
      "execution_count": null,
      "outputs": [
        {
          "output_type": "error",
          "ename": "NameError",
          "evalue": "ignored",
          "traceback": [
            "\u001b[0;31m---------------------------------------------------------------------------\u001b[0m",
            "\u001b[0;31mNameError\u001b[0m                                 Traceback (most recent call last)",
            "\u001b[0;32m<ipython-input-15-da34fd3d5047>\u001b[0m in \u001b[0;36m<cell line: 7>\u001b[0;34m()\u001b[0m\n\u001b[1;32m      5\u001b[0m \u001b[0;31m# The log could transform to normally distributed:\u001b[0m\u001b[0;34m\u001b[0m\u001b[0;34m\u001b[0m\u001b[0m\n\u001b[1;32m      6\u001b[0m \u001b[0;34m\u001b[0m\u001b[0m\n\u001b[0;32m----> 7\u001b[0;31m \u001b[0mdata\u001b[0m \u001b[0;34m=\u001b[0m \u001b[0mplot_exponential_data\u001b[0m\u001b[0;34m(\u001b[0m\u001b[0;34m)\u001b[0m\u001b[0;34m\u001b[0m\u001b[0;34m\u001b[0m\u001b[0m\n\u001b[0m\u001b[1;32m      8\u001b[0m \u001b[0;34m\u001b[0m\u001b[0m\n\u001b[1;32m      9\u001b[0m \u001b[0mplt\u001b[0m\u001b[0;34m.\u001b[0m\u001b[0mhist\u001b[0m\u001b[0;34m(\u001b[0m\u001b[0mnp\u001b[0m\u001b[0;34m.\u001b[0m\u001b[0mlog\u001b[0m\u001b[0;34m(\u001b[0m\u001b[0mdata\u001b[0m\u001b[0;34m)\u001b[0m\u001b[0;34m)\u001b[0m\u001b[0;34m\u001b[0m\u001b[0;34m\u001b[0m\u001b[0m\n",
            "\u001b[0;31mNameError\u001b[0m: name 'plot_exponential_data' is not defined"
          ]
        }
      ]
    },
    {
      "cell_type": "code",
      "source": [
        "plt.hist(np.log(data))"
      ],
      "metadata": {
        "id": "ERYLxyi0cjdg"
      },
      "execution_count": null,
      "outputs": []
    },
    {
      "cell_type": "code",
      "source": [
        "def plot_exponential_data():\n",
        "    \"\"\"\n",
        "    Generate an array of exponentially distributed data.\n",
        "    \"\"\"\n",
        "    data = np.random.exponential(size=506)\n",
        "    return data"
      ],
      "metadata": {
        "id": "nGK2Ob4rcQ9v"
      },
      "execution_count": null,
      "outputs": []
    },
    {
      "cell_type": "code",
      "source": [
        "log_medv = np.log(boston_data.MEDV)"
      ],
      "metadata": {
        "id": "ybrA99MKdsJg",
        "colab": {
          "base_uri": "https://localhost:8080/",
          "height": 167
        },
        "outputId": "cf1b0f69-209e-46e0-ad85-54440864c929"
      },
      "execution_count": null,
      "outputs": [
        {
          "output_type": "error",
          "ename": "NameError",
          "evalue": "ignored",
          "traceback": [
            "\u001b[0;31m---------------------------------------------------------------------------\u001b[0m",
            "\u001b[0;31mNameError\u001b[0m                                 Traceback (most recent call last)",
            "\u001b[0;32m<ipython-input-18-c3fd0962d6b3>\u001b[0m in \u001b[0;36m<cell line: 1>\u001b[0;34m()\u001b[0m\n\u001b[0;32m----> 1\u001b[0;31m \u001b[0mlog_medv\u001b[0m \u001b[0;34m=\u001b[0m \u001b[0mnp\u001b[0m\u001b[0;34m.\u001b[0m\u001b[0mlog\u001b[0m\u001b[0;34m(\u001b[0m\u001b[0mboston_data\u001b[0m\u001b[0;34m.\u001b[0m\u001b[0mMEDV\u001b[0m\u001b[0;34m)\u001b[0m\u001b[0;34m\u001b[0m\u001b[0;34m\u001b[0m\u001b[0m\n\u001b[0m",
            "\u001b[0;31mNameError\u001b[0m: name 'boston_data' is not defined"
          ]
        }
      ]
    },
    {
      "cell_type": "code",
      "source": [
        "# Load the pickled file\n",
        "with open('boston_housing_clean (2).pickle', 'rb') as f:\n",
        "    data = pickle.load(f)\n",
        "\n",
        "# Get the MEDV column and apply the log transformation\n",
        "log_medv = np.log(data['dataframe'].MEDV)\n",
        "\n",
        "# Plot the histogram\n",
        "plt.hist(log_medv)\n",
        "plt.xlabel('log(MEDV)')\n",
        "plt.ylabel('Frequency')\n",
        "plt.show()"
      ],
      "metadata": {
        "id": "tbOrLx5ce2of",
        "colab": {
          "base_uri": "https://localhost:8080/",
          "height": 449
        },
        "outputId": "d3b5b842-a494-4de6-a8b3-0b56f1a7374a"
      },
      "execution_count": null,
      "outputs": [
        {
          "output_type": "display_data",
          "data": {
            "text/plain": [
              "<Figure size 640x480 with 1 Axes>"
            ],
            "image/png": "[encoded data removed]"
          },
          "metadata": {}
        }
      ]
    },
    {
      "cell_type": "code",
      "source": [
        "normaltest(log_medv)"
      ],
      "metadata": {
        "id": "UxVdqyF17KcG",
        "colab": {
          "base_uri": "https://localhost:8080/"
        },
        "outputId": "b31cae7f-c3da-442d-ab9d-c5f891609037"
      },
      "execution_count": null,
      "outputs": [
        {
          "output_type": "execute_result",
          "data": {
            "text/plain": [
              "NormaltestResult(statistic=17.21801696640698, pvalue=0.00018245472768345196)"
            ]
          },
          "metadata": {},
          "execution_count": 20
        }
      ]
    },
    {
      "cell_type": "code",
      "source": [
        "squared_values = np.square(df)\n",
        "squared_values"
      ],
      "metadata": {
        "id": "7gW29m2U7nfJ",
        "colab": {
          "base_uri": "https://localhost:8080/",
          "height": 424
        },
        "outputId": "576c171c-6641-45a6-8dfd-5f1e674db403"
      },
      "execution_count": null,
      "outputs": [
        {
          "output_type": "execute_result",
          "data": {
            "text/plain": [
              "         CRIM     ZN     INDUS  CHAS       NOX         RM      AGE        DIS  \\\n",
              "0    0.000040  324.0    5.3361   0.0  0.289444  43.230625  4251.04  16.728100   \n",
              "1    0.000746    0.0   49.9849   0.0  0.219961  41.229241  6225.21  24.672082   \n",
              "2    0.000745    0.0   49.9849   0.0  0.219961  51.624225  3733.21  24.672082   \n",
              "3    0.001048    0.0    4.7524   0.0  0.209764  48.972004  2097.64  36.750269   \n",
              "4    0.004768    0.0    4.7524   0.0  0.209764  51.079609  2937.64  36.750269   \n",
              "..        ...    ...       ...   ...       ...        ...      ...        ...   \n",
              "501  0.003923    0.0  142.3249   0.0  0.328329  43.467649  4774.81   6.143458   \n",
              "502  0.002049    0.0  142.3249   0.0  0.328329  37.454400  5882.89   5.232656   \n",
              "503  0.003692    0.0  142.3249   0.0  0.328329  48.664576  8281.00   4.698056   \n",
              "504  0.012010    0.0  142.3249   0.0  0.328329  46.158436  7974.49   5.706843   \n",
              "505  0.002248    0.0  142.3249   0.0  0.328329  36.360900  6528.64   6.275025   \n",
              "\n",
              "     RAD      TAX  PTRATIO            B    LSTAT     MEDV  \n",
              "0    1.0  87616.0   234.09  157529.6100  24.8004   576.00  \n",
              "1    4.0  58564.0   316.84  157529.6100  83.5396   466.56  \n",
              "2    4.0  58564.0   316.84  154315.4089  16.2409  1204.09  \n",
              "3    9.0  49284.0   349.69  155732.8369   8.6436  1115.56  \n",
              "4    9.0  49284.0   349.69  157529.6100  28.4089  1310.44  \n",
              "..   ...      ...      ...          ...      ...      ...  \n",
              "501  1.0  74529.0   441.00  153656.1601  93.5089   501.76  \n",
              "502  1.0  74529.0   441.00  157529.6100  82.4464   424.36  \n",
              "503  1.0  74529.0   441.00  157529.6100  31.8096   571.21  \n",
              "504  1.0  74529.0   441.00  154802.9025  41.9904   484.00  \n",
              "505  1.0  74529.0   441.00  157529.6100  62.0944   141.61  \n",
              "\n",
              "[506 rows x 14 columns]"
            ],
            "text/html": [
              "\n",
              "  <div id=\"df-3bdbfdb4-6464-44cd-a198-99eacfc42777\">\n",
              "    <div class=\"colab-df-container\">\n",
              "      <div>\n",
              "<style scoped>\n",
              "    .dataframe tbody tr th:only-of-type {\n",
              "        vertical-align: middle;\n",
              "    }\n",
              "\n",
              "    .dataframe tbody tr th {\n",
              "        vertical-align: top;\n",
              "    }\n",
              "\n",
              "    .dataframe thead th {\n",
              "        text-align: right;\n",
              "    }\n",
              "</style>\n",
              "<table border=\"1\" class=\"dataframe\">\n",
              "  <thead>\n",
              "    <tr style=\"text-align: right;\">\n",
              "      <th></th>\n",
              "      <th>CRIM</th>\n",
              "      <th>ZN</th>\n",
              "      <th>INDUS</th>\n",
              "      <th>CHAS</th>\n",
              "      <th>NOX</th>\n",
              "      <th>RM</th>\n",
              "      <th>AGE</th>\n",
              "      <th>DIS</th>\n",
              "      <th>RAD</th>\n",
              "      <th>TAX</th>\n",
              "      <th>PTRATIO</th>\n",
              "      <th>B</th>\n",
              "      <th>LSTAT</th>\n",
              "      <th>MEDV</th>\n",
              "    </tr>\n",
              "  </thead>\n",
              "  <tbody>\n",
              "    <tr>\n",
              "      <th>0</th>\n",
              "      <td>0.000040</td>\n",
              "      <td>324.0</td>\n",
              "      <td>5.3361</td>\n",
              "      <td>0.0</td>\n",
              "      <td>0.289444</td>\n",
              "      <td>43.230625</td>\n",
              "      <td>4251.04</td>\n",
              "      <td>16.728100</td>\n",
              "      <td>1.0</td>\n",
              "      <td>87616.0</td>\n",
              "      <td>234.09</td>\n",
              "      <td>157529.6100</td>\n",
              "      <td>24.8004</td>\n",
              "      <td>576.00</td>\n",
              "    </tr>\n",
              "    <tr>\n",
              "      <th>1</th>\n",
              "      <td>0.000746</td>\n",
              "      <td>0.0</td>\n",
              "      <td>49.9849</td>\n",
              "      <td>0.0</td>\n",
              "      <td>0.219961</td>\n",
              "      <td>41.229241</td>\n",
              "      <td>6225.21</td>\n",
              "      <td>24.672082</td>\n",
              "      <td>4.0</td>\n",
              "      <td>58564.0</td>\n",
              "      <td>316.84</td>\n",
              "      <td>157529.6100</td>\n",
              "      <td>83.5396</td>\n",
              "      <td>466.56</td>\n",
              "    </tr>\n",
              "    <tr>\n",
              "      <th>2</th>\n",
              "      <td>0.000745</td>\n",
              "      <td>0.0</td>\n",
              "      <td>49.9849</td>\n",
              "      <td>0.0</td>\n",
              "      <td>0.219961</td>\n",
              "      <td>51.624225</td>\n",
              "      <td>3733.21</td>\n",
              "      <td>24.672082</td>\n",
              "      <td>4.0</td>\n",
              "      <td>58564.0</td>\n",
              "      <td>316.84</td>\n",
              "      <td>154315.4089</td>\n",
              "      <td>16.2409</td>\n",
              "      <td>1204.09</td>\n",
              "    </tr>\n",
              "    <tr>\n",
              "      <th>3</th>\n",
              "      <td>0.001048</td>\n",
              "      <td>0.0</td>\n",
              "      <td>4.7524</td>\n",
              "      <td>0.0</td>\n",
              "      <td>0.209764</td>\n",
              "      <td>48.972004</td>\n",
              "      <td>2097.64</td>\n",
              "      <td>36.750269</td>\n",
              "      <td>9.0</td>\n",
              "      <td>49284.0</td>\n",
              "      <td>349.69</td>\n",
              "      <td>155732.8369</td>\n",
              "      <td>8.6436</td>\n",
              "      <td>1115.56</td>\n",
              "    </tr>\n",
              "    <tr>\n",
              "      <th>4</th>\n",
              "      <td>0.004768</td>\n",
              "      <td>0.0</td>\n",
              "      <td>4.7524</td>\n",
              "      <td>0.0</td>\n",
              "      <td>0.209764</td>\n",
              "      <td>51.079609</td>\n",
              "      <td>2937.64</td>\n",
              "      <td>36.750269</td>\n",
              "      <td>9.0</td>\n",
              "      <td>49284.0</td>\n",
              "      <td>349.69</td>\n",
              "      <td>157529.6100</td>\n",
              "      <td>28.4089</td>\n",
              "      <td>1310.44</td>\n",
              "    </tr>\n",
              "    <tr>\n",
              "      <th>...</th>\n",
              "      <td>...</td>\n",
              "      <td>...</td>\n",
              "      <td>...</td>\n",
              "      <td>...</td>\n",
              "      <td>...</td>\n",
              "      <td>...</td>\n",
              "      <td>...</td>\n",
              "      <td>...</td>\n",
              "      <td>...</td>\n",
              "      <td>...</td>\n",
              "      <td>...</td>\n",
              "      <td>...</td>\n",
              "      <td>...</td>\n",
              "      <td>...</td>\n",
              "    </tr>\n",
              "    <tr>\n",
              "      <th>501</th>\n",
              "      <td>0.003923</td>\n",
              "      <td>0.0</td>\n",
              "      <td>142.3249</td>\n",
              "      <td>0.0</td>\n",
              "      <td>0.328329</td>\n",
              "      <td>43.467649</td>\n",
              "      <td>4774.81</td>\n",
              "      <td>6.143458</td>\n",
              "      <td>1.0</td>\n",
              "      <td>74529.0</td>\n",
              "      <td>441.00</td>\n",
              "      <td>153656.1601</td>\n",
              "      <td>93.5089</td>\n",
              "      <td>501.76</td>\n",
              "    </tr>\n",
              "    <tr>\n",
              "      <th>502</th>\n",
              "      <td>0.002049</td>\n",
              "      <td>0.0</td>\n",
              "      <td>142.3249</td>\n",
              "      <td>0.0</td>\n",
              "      <td>0.328329</td>\n",
              "      <td>37.454400</td>\n",
              "      <td>5882.89</td>\n",
              "      <td>5.232656</td>\n",
              "      <td>1.0</td>\n",
              "      <td>74529.0</td>\n",
              "      <td>441.00</td>\n",
              "      <td>157529.6100</td>\n",
              "      <td>82.4464</td>\n",
              "      <td>424.36</td>\n",
              "    </tr>\n",
              "    <tr>\n",
              "      <th>503</th>\n",
              "      <td>0.003692</td>\n",
              "      <td>0.0</td>\n",
              "      <td>142.3249</td>\n",
              "      <td>0.0</td>\n",
              "      <td>0.328329</td>\n",
              "      <td>48.664576</td>\n",
              "      <td>8281.00</td>\n",
              "      <td>4.698056</td>\n",
              "      <td>1.0</td>\n",
              "      <td>74529.0</td>\n",
              "      <td>441.00</td>\n",
              "      <td>157529.6100</td>\n",
              "      <td>31.8096</td>\n",
              "      <td>571.21</td>\n",
              "    </tr>\n",
              "    <tr>\n",
              "      <th>504</th>\n",
              "      <td>0.012010</td>\n",
              "      <td>0.0</td>\n",
              "      <td>142.3249</td>\n",
              "      <td>0.0</td>\n",
              "      <td>0.328329</td>\n",
              "      <td>46.158436</td>\n",
              "      <td>7974.49</td>\n",
              "      <td>5.706843</td>\n",
              "      <td>1.0</td>\n",
              "      <td>74529.0</td>\n",
              "      <td>441.00</td>\n",
              "      <td>154802.9025</td>\n",
              "      <td>41.9904</td>\n",
              "      <td>484.00</td>\n",
              "    </tr>\n",
              "    <tr>\n",
              "      <th>505</th>\n",
              "      <td>0.002248</td>\n",
              "      <td>0.0</td>\n",
              "      <td>142.3249</td>\n",
              "      <td>0.0</td>\n",
              "      <td>0.328329</td>\n",
              "      <td>36.360900</td>\n",
              "      <td>6528.64</td>\n",
              "      <td>6.275025</td>\n",
              "      <td>1.0</td>\n",
              "      <td>74529.0</td>\n",
              "      <td>441.00</td>\n",
              "      <td>157529.6100</td>\n",
              "      <td>62.0944</td>\n",
              "      <td>141.61</td>\n",
              "    </tr>\n",
              "  </tbody>\n",
              "</table>\n",
              "<p>506 rows × 14 columns</p>\n",
              "</div>\n",
              "      <button class=\"colab-df-convert\" onclick=\"convertToInteractive('df-3bdbfdb4-6464-44cd-a198-99eacfc42777')\"\n",
              "              title=\"Convert this dataframe to an interactive table.\"\n",
              "              style=\"display:none;\">\n",
              "        \n",
              "  <svg xmlns=\"http://www.w3.org/2000/svg\" height=\"24px\"viewBox=\"0 0 24 24\"\n",
              "       width=\"24px\">\n",
              "    <path d=\"M0 0h24v24H0V0z\" fill=\"none\"/>\n",
              "    <path d=\"M18.56 5.44l.94 2.06.94-2.06 2.06-.94-2.06-.94-.94-2.06-.94 2.06-2.06.94zm-11 1L8.5 8.5l.94-2.06 2.06-.94-2.06-.94L8.5 2.5l-.94 2.06-2.06.94zm10 10l.94 2.06.94-2.06 2.06-.94-2.06-.94-.94-2.06-.94 2.06-2.06.94z\"/><path d=\"M17.41 7.96l-1.37-1.37c-.4-.4-.92-.59-1.43-.59-.52 0-1.04.2-1.43.59L10.3 9.45l-7.72 7.72c-.78.78-.78 2.05 0 2.83L4 21.41c.39.39.9.59 1.41.59.51 0 1.02-.2 1.41-.59l7.78-7.78 2.81-2.81c.8-.78.8-2.07 0-2.86zM5.41 20L4 18.59l7.72-7.72 1.47 1.35L5.41 20z\"/>\n",
              "  </svg>\n",
              "      </button>\n",
              "      \n",
              "  <style>\n",
              "    .colab-df-container {\n",
              "      display:flex;\n",
              "      flex-wrap:wrap;\n",
              "      gap: 12px;\n",
              "    }\n",
              "\n",
              "    .colab-df-convert {\n",
              "      background-color: #E8F0FE;\n",
              "      border: none;\n",
              "      border-radius: 50%;\n",
              "      cursor: pointer;\n",
              "      display: none;\n",
              "      fill: #1967D2;\n",
              "      height: 32px;\n",
              "      padding: 0 0 0 0;\n",
              "      width: 32px;\n",
              "    }\n",
              "\n",
              "    .colab-df-convert:hover {\n",
              "      background-color: #E2EBFA;\n",
              "      box-shadow: 0px 1px 2px rgba(60, 64, 67, 0.3), 0px 1px 3px 1px rgba(60, 64, 67, 0.15);\n",
              "      fill: #174EA6;\n",
              "    }\n",
              "\n",
              "    [theme=dark] .colab-df-convert {\n",
              "      background-color: #3B4455;\n",
              "      fill: #D2E3FC;\n",
              "    }\n",
              "\n",
              "    [theme=dark] .colab-df-convert:hover {\n",
              "      background-color: #434B5C;\n",
              "      box-shadow: 0px 1px 3px 1px rgba(0, 0, 0, 0.15);\n",
              "      filter: drop-shadow(0px 1px 2px rgba(0, 0, 0, 0.3));\n",
              "      fill: #FFFFFF;\n",
              "    }\n",
              "  </style>\n",
              "\n",
              "      <script>\n",
              "        const buttonEl =\n",
              "          document.querySelector('#df-3bdbfdb4-6464-44cd-a198-99eacfc42777 button.colab-df-convert');\n",
              "        buttonEl.style.display =\n",
              "          google.colab.kernel.accessAllowed ? 'block' : 'none';\n",
              "\n",
              "        async function convertToInteractive(key) {\n",
              "          const element = document.querySelector('#df-3bdbfdb4-6464-44cd-a198-99eacfc42777');\n",
              "          const dataTable =\n",
              "            await google.colab.kernel.invokeFunction('convertToInteractive',\n",
              "                                                     [key], {});\n",
              "          if (!dataTable) return;\n",
              "\n",
              "          const docLinkHtml = 'Like what you see? Visit the ' +\n",
              "            '<a target=\"_blank\" href=https://colab.research.google.com/notebooks/data_table.ipynb>data table notebook</a>'\n",
              "            + ' to learn more about interactive tables.';\n",
              "          element.innerHTML = '';\n",
              "          dataTable['output_type'] = 'display_data';\n",
              "          await google.colab.output.renderOutput(dataTable, element);\n",
              "          const docLink = document.createElement('div');\n",
              "          docLink.innerHTML = docLinkHtml;\n",
              "          element.appendChild(docLink);\n",
              "        }\n",
              "      </script>\n",
              "    </div>\n",
              "  </div>\n",
              "  "
            ]
          },
          "metadata": {},
          "execution_count": 21
        }
      ]
    },
    {
      "cell_type": "code",
      "source": [
        "squared_values = df['MEDV'] ** 2\n",
        "\n",
        "plt.plot(squared_values.index, squared_values.values)\n",
        "plt.xlabel('Index')\n",
        "plt.ylabel('Squared values')\n",
        "plt.title('Squared values of DataFrame')\n",
        "plt.show()"
      ],
      "metadata": {
        "id": "6tZHdhyj9M69",
        "colab": {
          "base_uri": "https://localhost:8080/",
          "height": 472
        },
        "outputId": "971f4a61-a258-4d41-d836-431b89163415"
      },
      "execution_count": null,
      "outputs": [
        {
          "output_type": "display_data",
          "data": {
            "text/plain": [
              "<Figure size 640x480 with 1 Axes>"
            ],
            "image/png": "[encoded data removed]"
          },
          "metadata": {}
        }
      ]
    },
    {
      "cell_type": "code",
      "source": [
        "sqrt_medv = np.sqrt(df.MEDV)\n",
        "plt.hist(sqrt_medv)"
      ],
      "metadata": {
        "id": "iDioWp5kBNh4",
        "colab": {
          "base_uri": "https://localhost:8080/",
          "height": 517
        },
        "outputId": "54d046d4-c0ce-4f5f-b2af-68e180f15f85"
      },
      "execution_count": null,
      "outputs": [
        {
          "output_type": "execute_result",
          "data": {
            "text/plain": [
              "(array([  9.,  18.,  40.,  67., 131., 121.,  48.,  36.,  10.,  26.]),\n",
              " array([2.23606798, 2.71956796, 3.20306794, 3.68656793, 4.17006791,\n",
              "        4.65356789, 5.13706788, 5.62056786, 6.10406784, 6.58756783,\n",
              "        7.07106781]),\n",
              " <BarContainer object of 10 artists>)"
            ]
          },
          "metadata": {},
          "execution_count": 23
        },
        {
          "output_type": "display_data",
          "data": {
            "text/plain": [
              "<Figure size 640x480 with 1 Axes>"
            ],
            "image/png": "[encoded data removed]"
          },
          "metadata": {}
        }
      ]
    },
    {
      "cell_type": "code",
      "source": [
        "normaltest(sqrt_medv)"
      ],
      "metadata": {
        "id": "N0tf4pIrCDXO",
        "colab": {
          "base_uri": "https://localhost:8080/"
        },
        "outputId": "8004b0a1-4f5b-4a57-a121-b6b221846fab"
      },
      "execution_count": null,
      "outputs": [
        {
          "output_type": "execute_result",
          "data": {
            "text/plain": [
              "NormaltestResult(statistic=20.487090826863067, pvalue=3.558645701429252e-05)"
            ]
          },
          "metadata": {},
          "execution_count": 24
        }
      ]
    },
    {
      "cell_type": "markdown",
      "source": [],
      "metadata": {
        "id": "StFyptaD7nXX"
      }
    },
    {
      "cell_type": "code",
      "source": [
        "from scipy.stats import boxcox\n",
        "\n",
        "bc_result = boxcox(df.MEDV)\n",
        "boxcox_medv = bc_result[0]\n",
        "lam = bc_result[1]\n",
        "\n",
        "bc_result\n",
        "boxcox_medv"
      ],
      "metadata": {
        "id": "ILosr4-YEPvv",
        "colab": {
          "base_uri": "https://localhost:8080/"
        },
        "outputId": "acb5435d-2546-473b-a1c7-3d89b2188387"
      },
      "execution_count": null,
      "outputs": [
        {
          "output_type": "execute_result",
          "data": {
            "text/plain": [
              "array([4.57293637, 4.36558166, 5.33694273, 5.25495447, 5.42860689,\n",
              "       4.93592663, 4.48001683, 4.81796329, 3.85654088, 4.10949441,\n",
              "       3.68340136, 4.10949441, 4.37457314, 4.25505556, 4.03844836,\n",
              "       4.20749535, 4.49716757, 3.96522837, 4.23614226, 4.03844836,\n",
              "       3.50909851, 4.17850811, 3.70724917, 3.62267296, 3.75421675,\n",
              "       3.54759408, 3.86763825, 3.65930314, 4.05896259, 4.31093716,\n",
              "       3.38947462, 3.62267296, 3.45672253, 3.44343457, 3.49611884,\n",
              "       4.10949441, 4.21708168, 4.31093716, 4.63034334, 5.08317362,\n",
              "       5.34934183, 4.77998166, 4.67854354, 4.63034334, 4.32928636,\n",
              "       4.14917118, 4.21708168, 3.86763825, 3.61033098, 4.15898961,\n",
              "       4.18820891, 4.26445779, 4.65455672, 4.52267685, 4.10949441,\n",
              "       5.3800978 , 4.63034334, 5.1372014 , 4.51420237, 4.17850811,\n",
              "       4.08940884, 3.80025017, 4.41904971, 4.65455672, 5.2292247 ,\n",
              "       4.53112301, 4.15898961, 4.40135419, 3.95458193, 4.30171118,\n",
              "       4.58947077, 4.37457314, 4.47139742, 4.52267685, 4.58121701,\n",
              "       4.34750044, 4.21708168, 4.29245055, 4.32928636, 4.24561716,\n",
              "       4.88496846, 4.56462866, 4.63843994, 4.48001683, 4.56462866,\n",
              "       4.77998166, 4.44536027, 4.41904971, 4.53954106, 4.93592663,\n",
              "       4.45406938, 4.40135419, 4.48001683, 4.65455672, 4.27382416,\n",
              "       4.91420798, 4.34750044, 5.57497399, 5.85196639, 5.24211994,\n",
              "       4.84795531, 4.77231832, 4.07930288, 4.14917118, 4.22663054,\n",
              "       4.16876846, 4.16876846, 4.25505556, 4.19787121, 4.15898961,\n",
              "       4.37457314, 4.47139742, 4.09947255, 4.08940884, 4.06915427,\n",
              "       4.04872743, 4.32928636, 4.13931283, 4.25505556, 4.14917118,\n",
              "       4.40135419, 4.24561716, 4.26445779, 3.94388745, 4.09947255,\n",
              "       4.34750044, 3.76581102, 3.82292958, 4.01775677, 3.59792167,\n",
              "       4.13931283, 4.17850811, 4.4886068 , 4.05896259, 3.75421675,\n",
              "       4.02812495, 3.95458193, 3.92235239, 3.46993187, 3.99688428,\n",
              "       3.56028128, 3.61033098, 3.48306363, 3.75421675, 3.2630138 ,\n",
              "       3.53483518, 3.75421675, 3.63494845, 3.99688428, 3.73085242,\n",
              "       4.35655752, 4.17850811, 3.71908101, 4.15898961, 3.91151078,\n",
              "       3.75421675, 3.44343457, 5.7195379 , 4.59769786, 4.51420237,\n",
              "       4.81041115, 6.15652607, 6.15652607, 6.15652607, 4.46274835,\n",
              "       4.65455672, 6.15652607, 4.55629368, 4.55629368, 4.42785068,\n",
              "       3.95458193, 4.12941417, 4.49716757, 4.53954106, 4.45406938,\n",
              "       4.98592025, 4.50569935, 4.62222102, 5.02106203, 5.48807609,\n",
              "       5.63703686, 5.42860689, 5.52896357, 5.19671664, 4.76463229,\n",
              "       5.00003273, 6.15652607, 5.16381441, 5.01407071, 5.34934183,\n",
              "       5.47628332, 5.06262961, 5.44060278, 5.10356146, 4.96460985,\n",
              "       6.15652607, 5.24854476, 5.0488455 , 5.33072218, 5.34934183,\n",
              "       5.22275411, 4.58121701, 5.77324341, 6.08567947, 6.15652607,\n",
              "       4.45406938, 4.60589847, 4.44536027, 4.60589847, 4.21708168,\n",
              "       4.37457314, 4.14917118, 4.43662078, 4.89230887, 4.54793121,\n",
              "       4.65455672, 4.51420237, 4.93592663, 4.35655752, 4.4886068 ,\n",
              "       4.78762246, 4.37457314, 4.84795531, 5.03498992, 5.90328261,\n",
              "       6.15652607, 5.51151342, 5.1372014 , 5.99836093, 5.13050694,\n",
              "       4.59769786, 5.14387928, 5.74114106, 6.07610405, 4.95746814,\n",
              "       4.57293637, 4.66257726, 5.13050694, 4.54793121, 4.51420237,\n",
              "       4.40135419, 4.22663054, 4.41904971, 4.54793121, 3.97582725,\n",
              "       4.06915427, 4.59769786, 4.26445779, 4.6140728 , 4.74919156,\n",
              "       4.60589847, 4.63843994, 5.00003273, 5.799724  , 4.39245914,\n",
              "       4.30171118, 5.86230253, 6.15652607, 5.41655897, 5.03498992,\n",
              "       5.28044397, 5.81549623, 6.09998476, 5.0967827 , 5.44658138,\n",
              "       4.47139742, 5.0763431 , 6.15652607, 5.83639265, 4.28315498,\n",
              "       4.32012879, 4.67057281, 4.60589847, 5.3678365 , 5.19016808,\n",
              "       5.16381441, 5.24211994, 5.23567995, 4.96460985, 5.36168538,\n",
              "       5.93364307, 5.3800978 , 5.96369082, 6.15652607, 5.1770233 ,\n",
              "       4.40135419, 4.22663054, 4.50569935, 4.42785068, 4.63843994,\n",
              "       4.92146742, 5.49395386, 4.87760749, 4.56462866, 4.37457314,\n",
              "       4.92870692, 4.81796329, 4.24561716, 4.44536027, 4.95746814,\n",
              "       4.63843994, 4.40135419, 4.76463229, 5.23567995, 5.42258947,\n",
              "       4.91420798, 5.25495447, 4.89962884, 4.47139742, 4.24561716,\n",
              "       3.81161746, 4.41021763, 4.15898961, 4.36558166, 4.55629368,\n",
              "       3.82292958, 3.99688428, 4.19787121, 4.49716757, 4.31093716,\n",
              "       4.55629368, 4.49716757, 4.25505556, 4.06915427, 4.65455672,\n",
              "       4.62222102, 4.4886068 , 4.41904971, 4.14917118, 4.45406938,\n",
              "       4.19787121, 3.92235239, 4.15898961, 4.41904971, 4.28315498,\n",
              "       4.32012879, 4.16876846, 4.06915427, 4.27382416, 4.11947482,\n",
              "       4.08940884, 5.20976657, 3.85654088, 4.56462866, 5.11032317,\n",
              "       3.96522837, 3.93314444, 4.49716757, 4.6140728 , 4.77998166,\n",
              "       4.48001683, 4.58121701, 4.07930288, 5.03498992, 4.03844836,\n",
              "       4.27382416, 3.99688428, 4.37457314, 4.46274835, 4.45406938,\n",
              "       4.65455672, 4.20749535, 4.29245055, 3.88967681, 4.39245914,\n",
              "       4.84795531, 4.39245914, 4.49716757, 6.15652607, 6.15652607,\n",
              "       6.15652607, 6.15652607, 6.15652607, 3.53483518, 3.53483518,\n",
              "       3.68340136, 3.54759408, 3.46993187, 3.44343457, 3.01819163,\n",
              "       3.05037296, 3.1287559 , 3.18945869, 3.33416642, 2.77789369,\n",
              "       2.46335537, 3.06628215, 2.50549977, 3.01819163, 3.21918087,\n",
              "       3.6953562 , 4.50569935, 2.93551931, 3.53483518, 3.38947462,\n",
              "       3.44343457, 3.36199384, 2.7225443 , 1.92564954, 2.26150315,\n",
              "       2.08823927, 2.46335537, 3.30598225, 2.68478853, 2.7225443 ,\n",
              "       1.92564954, 3.27743075, 4.87760749, 3.93314444, 4.84795531,\n",
              "       3.68340136, 3.93314444, 4.00734336, 3.83418713, 2.42028366,\n",
              "       2.46335537, 2.52623818, 3.05037296, 2.77789369, 2.70375445,\n",
              "       3.87868337, 3.58544419, 4.29245055, 3.48306363, 3.24850083,\n",
              "       2.68478853, 3.01819163, 3.1287559 , 3.14409313, 2.90151373,\n",
              "       3.62267296, 3.57289769, 3.81161746, 3.59792167, 3.24850083,\n",
              "       3.48306363, 2.9185859 , 2.75961042, 2.70375445, 3.40308806,\n",
              "       3.06628215, 3.92235239, 4.05896259, 3.73085242, 3.11330805,\n",
              "       3.2630138 , 3.67138393, 3.37577694, 3.57289769, 3.4300669 ,\n",
              "       3.48306363, 3.70724917, 3.81161746, 3.99688428, 3.67138393,\n",
              "       3.57289769, 3.38947462, 3.49611884, 3.67138393, 4.21708168,\n",
              "       3.8453907 , 3.98637906, 4.16876846, 4.23614226, 4.34750044,\n",
              "       4.20749535, 4.11947482, 4.12941417, 4.12941417, 4.22663054,\n",
              "       4.20749535, 4.17850811, 4.50569935, 5.01407071, 3.53483518,\n",
              "       3.46993187, 3.87868337, 3.2917531 , 3.63494845, 4.34750044,\n",
              "       4.4886068 , 4.54793121, 4.65455672, 4.3835322 , 4.27382416,\n",
              "       4.32928636, 4.12941417, 4.27382416, 3.70724917, 2.42028366,\n",
              "       2.6463132 , 3.50909851, 4.22663054, 4.3835322 , 4.6140728 ,\n",
              "       4.49716757, 4.18820891, 4.04872743, 4.32928636, 3.96522837,\n",
              "       3.88967681, 4.43662078, 4.27382416, 4.56462866, 4.40135419,\n",
              "       3.27743075])"
            ]
          },
          "metadata": {},
          "execution_count": 25
        }
      ]
    },
    {
      "cell_type": "code",
      "source": [
        "df['MEDV'].hist();"
      ],
      "metadata": {
        "id": "oXRqyNgiE2h8",
        "colab": {
          "base_uri": "https://localhost:8080/",
          "height": 431
        },
        "outputId": "36d159e5-1aec-43cb-a49c-3710235e63c8"
      },
      "execution_count": null,
      "outputs": [
        {
          "output_type": "display_data",
          "data": {
            "text/plain": [
              "<Figure size 640x480 with 1 Axes>"
            ],
            "image/png": "[encoded data removed]"
          },
          "metadata": {}
        }
      ]
    },
    {
      "cell_type": "code",
      "source": [
        "plt.hist(boxcox_medv);"
      ],
      "metadata": {
        "id": "r0xU4ZwaFBAl",
        "colab": {
          "base_uri": "https://localhost:8080/",
          "height": 430
        },
        "outputId": "7d0688df-5086-43c1-adb7-46c8dda95daa"
      },
      "execution_count": null,
      "outputs": [
        {
          "output_type": "display_data",
          "data": {
            "text/plain": [
              "<Figure size 640x480 with 1 Axes>"
            ],
            "image/png": "[encoded data removed]"
          },
          "metadata": {}
        }
      ]
    },
    {
      "cell_type": "code",
      "source": [
        "normaltest(boxcox_medv)"
      ],
      "metadata": {
        "id": "ZWMV7fKEFMYP",
        "colab": {
          "base_uri": "https://localhost:8080/"
        },
        "outputId": "94a6a0f6-b16c-4740-e183-8a5a9200291b"
      },
      "execution_count": null,
      "outputs": [
        {
          "output_type": "execute_result",
          "data": {
            "text/plain": [
              "NormaltestResult(statistic=4.513528775533045, pvalue=0.1046886692817602)"
            ]
          },
          "metadata": {},
          "execution_count": 28
        }
      ]
    },
    {
      "cell_type": "code",
      "source": [
        "# TESTING REGRESSION:\n",
        "\n",
        "from sklearn.linear_model import LinearRegression\n",
        "from sklearn.metrics import r2_score\n",
        "from sklearn.model_selection import train_test_split\n",
        "from sklearn.preprocessing import (StandardScaler, PolynomialFeatures)\n"
      ],
      "metadata": {
        "id": "nqDDL0zE5i48"
      },
      "execution_count": null,
      "outputs": []
    },
    {
      "cell_type": "code",
      "source": [
        "lr = LinearRegression()"
      ],
      "metadata": {
        "id": "2zatSQDHl-45"
      },
      "execution_count": null,
      "outputs": []
    },
    {
      "cell_type": "code",
      "source": [
        "boston_data = df\n",
        "\n",
        "# reset our data to reset the changes that we have to done"
      ],
      "metadata": {
        "id": "MFVQzPvfmMdw"
      },
      "execution_count": null,
      "outputs": []
    },
    {
      "cell_type": "code",
      "source": [
        "# Create X and Y\n",
        "y_col = 'MEDV'\n",
        "\n",
        "x = boston_data.drop(y_col, axis=1)\n",
        "y = boston_data[y_col]\n",
        "\n",
        "x"
      ],
      "metadata": {
        "colab": {
          "base_uri": "https://localhost:8080/",
          "height": 424
        },
        "id": "hwKSRopynbfn",
        "outputId": "962fd493-bfb3-435e-e873-2b6517a43a20"
      },
      "execution_count": null,
      "outputs": [
        {
          "output_type": "execute_result",
          "data": {
            "text/plain": [
              "        CRIM    ZN  INDUS  CHAS    NOX     RM   AGE     DIS  RAD    TAX  \\\n",
              "0    0.00632  18.0   2.31   0.0  0.538  6.575  65.2  4.0900  1.0  296.0   \n",
              "1    0.02731   0.0   7.07   0.0  0.469  6.421  78.9  4.9671  2.0  242.0   \n",
              "2    0.02729   0.0   7.07   0.0  0.469  7.185  61.1  4.9671  2.0  242.0   \n",
              "3    0.03237   0.0   2.18   0.0  0.458  6.998  45.8  6.0622  3.0  222.0   \n",
              "4    0.06905   0.0   2.18   0.0  0.458  7.147  54.2  6.0622  3.0  222.0   \n",
              "..       ...   ...    ...   ...    ...    ...   ...     ...  ...    ...   \n",
              "501  0.06263   0.0  11.93   0.0  0.573  6.593  69.1  2.4786  1.0  273.0   \n",
              "502  0.04527   0.0  11.93   0.0  0.573  6.120  76.7  2.2875  1.0  273.0   \n",
              "503  0.06076   0.0  11.93   0.0  0.573  6.976  91.0  2.1675  1.0  273.0   \n",
              "504  0.10959   0.0  11.93   0.0  0.573  6.794  89.3  2.3889  1.0  273.0   \n",
              "505  0.04741   0.0  11.93   0.0  0.573  6.030  80.8  2.5050  1.0  273.0   \n",
              "\n",
              "     PTRATIO       B  LSTAT  \n",
              "0       15.3  396.90   4.98  \n",
              "1       17.8  396.90   9.14  \n",
              "2       17.8  392.83   4.03  \n",
              "3       18.7  394.63   2.94  \n",
              "4       18.7  396.90   5.33  \n",
              "..       ...     ...    ...  \n",
              "501     21.0  391.99   9.67  \n",
              "502     21.0  396.90   9.08  \n",
              "503     21.0  396.90   5.64  \n",
              "504     21.0  393.45   6.48  \n",
              "505     21.0  396.90   7.88  \n",
              "\n",
              "[506 rows x 13 columns]"
            ],
            "text/html": [
              "\n",
              "  <div id=\"df-dc42cf69-c177-48ca-8930-f21caa7205c9\">\n",
              "    <div class=\"colab-df-container\">\n",
              "      <div>\n",
              "<style scoped>\n",
              "    .dataframe tbody tr th:only-of-type {\n",
              "        vertical-align: middle;\n",
              "    }\n",
              "\n",
              "    .dataframe tbody tr th {\n",
              "        vertical-align: top;\n",
              "    }\n",
              "\n",
              "    .dataframe thead th {\n",
              "        text-align: right;\n",
              "    }\n",
              "</style>\n",
              "<table border=\"1\" class=\"dataframe\">\n",
              "  <thead>\n",
              "    <tr style=\"text-align: right;\">\n",
              "      <th></th>\n",
              "      <th>CRIM</th>\n",
              "      <th>ZN</th>\n",
              "      <th>INDUS</th>\n",
              "      <th>CHAS</th>\n",
              "      <th>NOX</th>\n",
              "      <th>RM</th>\n",
              "      <th>AGE</th>\n",
              "      <th>DIS</th>\n",
              "      <th>RAD</th>\n",
              "      <th>TAX</th>\n",
              "      <th>PTRATIO</th>\n",
              "      <th>B</th>\n",
              "      <th>LSTAT</th>\n",
              "    </tr>\n",
              "  </thead>\n",
              "  <tbody>\n",
              "    <tr>\n",
              "      <th>0</th>\n",
              "      <td>0.00632</td>\n",
              "      <td>18.0</td>\n",
              "      <td>2.31</td>\n",
              "      <td>0.0</td>\n",
              "      <td>0.538</td>\n",
              "      <td>6.575</td>\n",
              "      <td>65.2</td>\n",
              "      <td>4.0900</td>\n",
              "      <td>1.0</td>\n",
              "      <td>296.0</td>\n",
              "      <td>15.3</td>\n",
              "      <td>396.90</td>\n",
              "      <td>4.98</td>\n",
              "    </tr>\n",
              "    <tr>\n",
              "      <th>1</th>\n",
              "      <td>0.02731</td>\n",
              "      <td>0.0</td>\n",
              "      <td>7.07</td>\n",
              "      <td>0.0</td>\n",
              "      <td>0.469</td>\n",
              "      <td>6.421</td>\n",
              "      <td>78.9</td>\n",
              "      <td>4.9671</td>\n",
              "      <td>2.0</td>\n",
              "      <td>242.0</td>\n",
              "      <td>17.8</td>\n",
              "      <td>396.90</td>\n",
              "      <td>9.14</td>\n",
              "    </tr>\n",
              "    <tr>\n",
              "      <th>2</th>\n",
              "      <td>0.02729</td>\n",
              "      <td>0.0</td>\n",
              "      <td>7.07</td>\n",
              "      <td>0.0</td>\n",
              "      <td>0.469</td>\n",
              "      <td>7.185</td>\n",
              "      <td>61.1</td>\n",
              "      <td>4.9671</td>\n",
              "      <td>2.0</td>\n",
              "      <td>242.0</td>\n",
              "      <td>17.8</td>\n",
              "      <td>392.83</td>\n",
              "      <td>4.03</td>\n",
              "    </tr>\n",
              "    <tr>\n",
              "      <th>3</th>\n",
              "      <td>0.03237</td>\n",
              "      <td>0.0</td>\n",
              "      <td>2.18</td>\n",
              "      <td>0.0</td>\n",
              "      <td>0.458</td>\n",
              "      <td>6.998</td>\n",
              "      <td>45.8</td>\n",
              "      <td>6.0622</td>\n",
              "      <td>3.0</td>\n",
              "      <td>222.0</td>\n",
              "      <td>18.7</td>\n",
              "      <td>394.63</td>\n",
              "      <td>2.94</td>\n",
              "    </tr>\n",
              "    <tr>\n",
              "      <th>4</th>\n",
              "      <td>0.06905</td>\n",
              "      <td>0.0</td>\n",
              "      <td>2.18</td>\n",
              "      <td>0.0</td>\n",
              "      <td>0.458</td>\n",
              "      <td>7.147</td>\n",
              "      <td>54.2</td>\n",
              "      <td>6.0622</td>\n",
              "      <td>3.0</td>\n",
              "      <td>222.0</td>\n",
              "      <td>18.7</td>\n",
              "      <td>396.90</td>\n",
              "      <td>5.33</td>\n",
              "    </tr>\n",
              "    <tr>\n",
              "      <th>...</th>\n",
              "      <td>...</td>\n",
              "      <td>...</td>\n",
              "      <td>...</td>\n",
              "      <td>...</td>\n",
              "      <td>...</td>\n",
              "      <td>...</td>\n",
              "      <td>...</td>\n",
              "      <td>...</td>\n",
              "      <td>...</td>\n",
              "      <td>...</td>\n",
              "      <td>...</td>\n",
              "      <td>...</td>\n",
              "      <td>...</td>\n",
              "    </tr>\n",
              "    <tr>\n",
              "      <th>501</th>\n",
              "      <td>0.06263</td>\n",
              "      <td>0.0</td>\n",
              "      <td>11.93</td>\n",
              "      <td>0.0</td>\n",
              "      <td>0.573</td>\n",
              "      <td>6.593</td>\n",
              "      <td>69.1</td>\n",
              "      <td>2.4786</td>\n",
              "      <td>1.0</td>\n",
              "      <td>273.0</td>\n",
              "      <td>21.0</td>\n",
              "      <td>391.99</td>\n",
              "      <td>9.67</td>\n",
              "    </tr>\n",
              "    <tr>\n",
              "      <th>502</th>\n",
              "      <td>0.04527</td>\n",
              "      <td>0.0</td>\n",
              "      <td>11.93</td>\n",
              "      <td>0.0</td>\n",
              "      <td>0.573</td>\n",
              "      <td>6.120</td>\n",
              "      <td>76.7</td>\n",
              "      <td>2.2875</td>\n",
              "      <td>1.0</td>\n",
              "      <td>273.0</td>\n",
              "      <td>21.0</td>\n",
              "      <td>396.90</td>\n",
              "      <td>9.08</td>\n",
              "    </tr>\n",
              "    <tr>\n",
              "      <th>503</th>\n",
              "      <td>0.06076</td>\n",
              "      <td>0.0</td>\n",
              "      <td>11.93</td>\n",
              "      <td>0.0</td>\n",
              "      <td>0.573</td>\n",
              "      <td>6.976</td>\n",
              "      <td>91.0</td>\n",
              "      <td>2.1675</td>\n",
              "      <td>1.0</td>\n",
              "      <td>273.0</td>\n",
              "      <td>21.0</td>\n",
              "      <td>396.90</td>\n",
              "      <td>5.64</td>\n",
              "    </tr>\n",
              "    <tr>\n",
              "      <th>504</th>\n",
              "      <td>0.10959</td>\n",
              "      <td>0.0</td>\n",
              "      <td>11.93</td>\n",
              "      <td>0.0</td>\n",
              "      <td>0.573</td>\n",
              "      <td>6.794</td>\n",
              "      <td>89.3</td>\n",
              "      <td>2.3889</td>\n",
              "      <td>1.0</td>\n",
              "      <td>273.0</td>\n",
              "      <td>21.0</td>\n",
              "      <td>393.45</td>\n",
              "      <td>6.48</td>\n",
              "    </tr>\n",
              "    <tr>\n",
              "      <th>505</th>\n",
              "      <td>0.04741</td>\n",
              "      <td>0.0</td>\n",
              "      <td>11.93</td>\n",
              "      <td>0.0</td>\n",
              "      <td>0.573</td>\n",
              "      <td>6.030</td>\n",
              "      <td>80.8</td>\n",
              "      <td>2.5050</td>\n",
              "      <td>1.0</td>\n",
              "      <td>273.0</td>\n",
              "      <td>21.0</td>\n",
              "      <td>396.90</td>\n",
              "      <td>7.88</td>\n",
              "    </tr>\n",
              "  </tbody>\n",
              "</table>\n",
              "<p>506 rows × 13 columns</p>\n",
              "</div>\n",
              "      <button class=\"colab-df-convert\" onclick=\"convertToInteractive('df-dc42cf69-c177-48ca-8930-f21caa7205c9')\"\n",
              "              title=\"Convert this dataframe to an interactive table.\"\n",
              "              style=\"display:none;\">\n",
              "        \n",
              "  <svg xmlns=\"http://www.w3.org/2000/svg\" height=\"24px\"viewBox=\"0 0 24 24\"\n",
              "       width=\"24px\">\n",
              "    <path d=\"M0 0h24v24H0V0z\" fill=\"none\"/>\n",
              "    <path d=\"M18.56 5.44l.94 2.06.94-2.06 2.06-.94-2.06-.94-.94-2.06-.94 2.06-2.06.94zm-11 1L8.5 8.5l.94-2.06 2.06-.94-2.06-.94L8.5 2.5l-.94 2.06-2.06.94zm10 10l.94 2.06.94-2.06 2.06-.94-2.06-.94-.94-2.06-.94 2.06-2.06.94z\"/><path d=\"M17.41 7.96l-1.37-1.37c-.4-.4-.92-.59-1.43-.59-.52 0-1.04.2-1.43.59L10.3 9.45l-7.72 7.72c-.78.78-.78 2.05 0 2.83L4 21.41c.39.39.9.59 1.41.59.51 0 1.02-.2 1.41-.59l7.78-7.78 2.81-2.81c.8-.78.8-2.07 0-2.86zM5.41 20L4 18.59l7.72-7.72 1.47 1.35L5.41 20z\"/>\n",
              "  </svg>\n",
              "      </button>\n",
              "      \n",
              "  <style>\n",
              "    .colab-df-container {\n",
              "      display:flex;\n",
              "      flex-wrap:wrap;\n",
              "      gap: 12px;\n",
              "    }\n",
              "\n",
              "    .colab-df-convert {\n",
              "      background-color: #E8F0FE;\n",
              "      border: none;\n",
              "      border-radius: 50%;\n",
              "      cursor: pointer;\n",
              "      display: none;\n",
              "      fill: #1967D2;\n",
              "      height: 32px;\n",
              "      padding: 0 0 0 0;\n",
              "      width: 32px;\n",
              "    }\n",
              "\n",
              "    .colab-df-convert:hover {\n",
              "      background-color: #E2EBFA;\n",
              "      box-shadow: 0px 1px 2px rgba(60, 64, 67, 0.3), 0px 1px 3px 1px rgba(60, 64, 67, 0.15);\n",
              "      fill: #174EA6;\n",
              "    }\n",
              "\n",
              "    [theme=dark] .colab-df-convert {\n",
              "      background-color: #3B4455;\n",
              "      fill: #D2E3FC;\n",
              "    }\n",
              "\n",
              "    [theme=dark] .colab-df-convert:hover {\n",
              "      background-color: #434B5C;\n",
              "      box-shadow: 0px 1px 3px 1px rgba(0, 0, 0, 0.15);\n",
              "      filter: drop-shadow(0px 1px 2px rgba(0, 0, 0, 0.3));\n",
              "      fill: #FFFFFF;\n",
              "    }\n",
              "  </style>\n",
              "\n",
              "      <script>\n",
              "        const buttonEl =\n",
              "          document.querySelector('#df-dc42cf69-c177-48ca-8930-f21caa7205c9 button.colab-df-convert');\n",
              "        buttonEl.style.display =\n",
              "          google.colab.kernel.accessAllowed ? 'block' : 'none';\n",
              "\n",
              "        async function convertToInteractive(key) {\n",
              "          const element = document.querySelector('#df-dc42cf69-c177-48ca-8930-f21caa7205c9');\n",
              "          const dataTable =\n",
              "            await google.colab.kernel.invokeFunction('convertToInteractive',\n",
              "                                                     [key], {});\n",
              "          if (!dataTable) return;\n",
              "\n",
              "          const docLinkHtml = 'Like what you see? Visit the ' +\n",
              "            '<a target=\"_blank\" href=https://colab.research.google.com/notebooks/data_table.ipynb>data table notebook</a>'\n",
              "            + ' to learn more about interactive tables.';\n",
              "          element.innerHTML = '';\n",
              "          dataTable['output_type'] = 'display_data';\n",
              "          await google.colab.output.renderOutput(dataTable, element);\n",
              "          const docLink = document.createElement('div');\n",
              "          docLink.innerHTML = docLinkHtml;\n",
              "          element.appendChild(docLink);\n",
              "        }\n",
              "      </script>\n",
              "    </div>\n",
              "  </div>\n",
              "  "
            ]
          },
          "metadata": {},
          "execution_count": 32
        }
      ]
    },
    {
      "cell_type": "code",
      "source": [
        "#Creating a polynomial Features\n",
        "from sklearn.preprocessing import PolynomialFeatures\n",
        "\n",
        "# create polynomial features of degree 2\n",
        "pf = PolynomialFeatures(degree=2, include_bias=False)\n",
        "X_pf = pf.fit_transform(x)\n",
        "\n",
        "# show the results\n",
        "print(X_pf)"
      ],
      "metadata": {
        "colab": {
          "base_uri": "https://localhost:8080/"
        },
        "id": "mkq0JhUCmKPr",
        "outputId": "ded06aad-4ca0-4ce0-a15f-46c4e8350cae"
      },
      "execution_count": null,
      "outputs": [
        {
          "output_type": "stream",
          "name": "stdout",
          "text": [
            "[[6.32000000e-03 1.80000000e+01 2.31000000e+00 ... 1.57529610e+05\n",
            "  1.97656200e+03 2.48004000e+01]\n",
            " [2.73100000e-02 0.00000000e+00 7.07000000e+00 ... 1.57529610e+05\n",
            "  3.62766600e+03 8.35396000e+01]\n",
            " [2.72900000e-02 0.00000000e+00 7.07000000e+00 ... 1.54315409e+05\n",
            "  1.58310490e+03 1.62409000e+01]\n",
            " ...\n",
            " [6.07600000e-02 0.00000000e+00 1.19300000e+01 ... 1.57529610e+05\n",
            "  2.23851600e+03 3.18096000e+01]\n",
            " [1.09590000e-01 0.00000000e+00 1.19300000e+01 ... 1.54802902e+05\n",
            "  2.54955600e+03 4.19904000e+01]\n",
            " [4.74100000e-02 0.00000000e+00 1.19300000e+01 ... 1.57529610e+05\n",
            "  3.12757200e+03 6.20944000e+01]]\n"
          ]
        }
      ]
    },
    {
      "cell_type": "code",
      "source": [
        "\n",
        "# This is an example to understand rhe previous code :\n",
        "\n",
        "Original dataset:\n",
        "   Age  Income\n",
        "0   58   83214\n",
        "1   37   39383\n",
        "2   24   20127\n",
        "3   49  119273\n",
        "4   40   31531\n",
        "\n",
        "Transformed dataset: # so this is going to be X_pf\n",
        "   Age  Income  Age^2  Age Income  Income^2\n",
        "0   58   83214  3364     4844392   6921744196\n",
        "1   37   39383  1369     1459971   1547024489\n",
        "2   24   20127  576      484248    405098529\n",
        "3   49  119273  2401     5825877   1421957529\n",
        "4   40   31531  1600     1261240   994295561\n",
        "\n",
        "#In this example, we first generate a random dataset with 5 people using the\n",
        "#np.random.randint() function. We then create a pandas DataFrame df from this\n",
        "#dataset and print it using the print() function.\n",
        "#Next, we create a PolynomialFeatures object with degree 2\n",
        "#and apply it to the original dataset using the fit_transform() method.\n",
        "#We store the transformed data in the variable X_pf.\n",
        "##Finally, we create a new pandas DataFrame df_pf from the transformed\n",
        "#data X_pf and use the get_feature_names() method to get the names\n",
        "#of the polynomial features, which we assign to the columns variable.\n",
        "#We then print the transformed dataset using the print() function.\n",
        "\n",
        "####     SO THEN fit.transform INCLUDE THE POLINOMIAL FEATURES INTO\n",
        "####     THE ORIGINAL DATAFRAME."
      ],
      "metadata": {
        "id": "h10xsJLzx0Jd"
      },
      "execution_count": null,
      "outputs": []
    },
    {
      "cell_type": "code",
      "source": [
        "x.shape"
      ],
      "metadata": {
        "colab": {
          "base_uri": "https://localhost:8080/"
        },
        "id": "IZu_hXaxp-tb",
        "outputId": "c924bcce-c988-4da6-fefa-d4eae3aeb853"
      },
      "execution_count": null,
      "outputs": [
        {
          "output_type": "execute_result",
          "data": {
            "text/plain": [
              "(506, 13)"
            ]
          },
          "metadata": {},
          "execution_count": 34
        }
      ]
    },
    {
      "cell_type": "code",
      "source": [
        "X_pf.shape"
      ],
      "metadata": {
        "colab": {
          "base_uri": "https://localhost:8080/"
        },
        "id": "OKN-i309qE5i",
        "outputId": "9b3c9439-4c55-4232-88ef-dd374f1c9cee"
      },
      "execution_count": null,
      "outputs": [
        {
          "output_type": "execute_result",
          "data": {
            "text/plain": [
              "(506, 104)"
            ]
          },
          "metadata": {},
          "execution_count": 35
        }
      ]
    },
    {
      "cell_type": "code",
      "source": [
        "from sklearn.model_selection import train_test_split\n",
        "\n",
        "X_train, X_test, y_train, y_test = train_test_split(X_pf, y, test_size=0.3, random_state=72018)"
      ],
      "metadata": {
        "id": "LvqOuUZ4t5SB"
      },
      "execution_count": null,
      "outputs": []
    },
    {
      "cell_type": "code",
      "source": [
        "s = StandardScaler()\n",
        "X_train_s = s.fit_transform(X_train)\n",
        "\n",
        "X_train_s.shape"
      ],
      "metadata": {
        "colab": {
          "base_uri": "https://localhost:8080/"
        },
        "id": "5fHOPcivxL4S",
        "outputId": "e851b3f5-8b3e-41f6-bf92-ba92f4bc1046"
      },
      "execution_count": null,
      "outputs": [
        {
          "output_type": "execute_result",
          "data": {
            "text/plain": [
              "(354, 104)"
            ]
          },
          "metadata": {},
          "execution_count": 37
        }
      ]
    },
    {
      "cell_type": "code",
      "source": [
        "# Box-Cox is used to trasnform data that is not followed by a non-normalized distribution to one normalized distribution\n",
        "# after to being applied the box-cox\n",
        "\n",
        "#Here are the formulas for the Box-Cox transformation:\n",
        "\n",
        "#If lambda != 0: y(lambda) = (y^lambda - 1) / lambda\n",
        "#If lambda = 0: y(lambda) = log(y)\n",
        "#In these formulas, y is the original data, lambda is a parameter that controls the amount of transformation applied to the data, and y(lambda) is the transformed data.\n",
        "\n",
        "#The Box-Cox transformation is often used in machine learning to transform non-normal data into a normal distribution, which can improve the performance of certain machine learning algorithms. The optimal value of lambda is often determined using maximum likelihood estimation or cross-validation.\n",
        "\n",
        "#I hope that helps! Let me know if you have any other questions.\n",
        "\n",
        "\n"
      ],
      "metadata": {
        "id": "Lrm0a_kjBJKH"
      },
      "execution_count": null,
      "outputs": []
    },
    {
      "cell_type": "code",
      "source": [
        "from scipy.stats import boxcox\n",
        "\n",
        "bc_result2 = boxcox(y_train)\n",
        "y_train_bc = bc_result2[0]\n",
        "lam2 = bc_result2[1]"
      ],
      "metadata": {
        "id": "6yNtRnwpG-In"
      },
      "execution_count": null,
      "outputs": []
    },
    {
      "cell_type": "code",
      "source": [
        "y_train_bc.shape"
      ],
      "metadata": {
        "colab": {
          "base_uri": "https://localhost:8080/"
        },
        "id": "Sc9vkG9GILJz",
        "outputId": "ed028189-dcd3-4b60-84b5-f28d3dc9eed6"
      },
      "execution_count": null,
      "outputs": [
        {
          "output_type": "execute_result",
          "data": {
            "text/plain": [
              "(354,)"
            ]
          },
          "metadata": {},
          "execution_count": 40
        }
      ]
    },
    {
      "cell_type": "code",
      "source": [
        "lam2"
      ],
      "metadata": {
        "colab": {
          "base_uri": "https://localhost:8080/"
        },
        "id": "gup9eM1xILBc",
        "outputId": "175daa34-5a1e-469a-f820-167169673475"
      },
      "execution_count": null,
      "outputs": [
        {
          "output_type": "execute_result",
          "data": {
            "text/plain": [
              "0.2751714409758365"
            ]
          },
          "metadata": {},
          "execution_count": 41
        }
      ]
    },
    {
      "cell_type": "code",
      "source": [
        "lr.fit(X_train_s, y_train_bc)\n",
        "X_test_s = s.transform(X_test)\n",
        "y_pred_bc = lr.predict(X_test_s)"
      ],
      "metadata": {
        "id": "zN7e-XswOUe9"
      },
      "execution_count": null,
      "outputs": []
    },
    {
      "cell_type": "code",
      "source": [
        "y_test"
      ],
      "metadata": {
        "colab": {
          "base_uri": "https://localhost:8080/"
        },
        "id": "aBC5pHJZWqjI",
        "outputId": "8482340b-ee2b-4efd-ea8f-0f2c37b741b0"
      },
      "execution_count": null,
      "outputs": [
        {
          "output_type": "execute_result",
          "data": {
            "text/plain": [
              "502    20.6\n",
              "127    16.2\n",
              "390    15.1\n",
              "303    33.1\n",
              "277    33.1\n",
              "       ... \n",
              "433    14.3\n",
              "505    11.9\n",
              "53     23.4\n",
              "82     24.8\n",
              "377    13.3\n",
              "Name: MEDV, Length: 152, dtype: float64"
            ]
          },
          "metadata": {},
          "execution_count": 43
        }
      ]
    },
    {
      "cell_type": "code",
      "source": [
        "y_pred_bc"
      ],
      "metadata": {
        "colab": {
          "base_uri": "https://localhost:8080/"
        },
        "id": "kxr_XFlZWskI",
        "outputId": "4dd3a95f-a82e-4c64-ef11-4e960bd07035"
      },
      "execution_count": null,
      "outputs": [
        {
          "output_type": "execute_result",
          "data": {
            "text/plain": [
              "array([4.4392341 , 4.16090919, 4.15308649, 5.72559265, 5.70300627,\n",
              "       6.59889491, 4.18331992, 4.77591007, 4.68614564, 4.85728937,\n",
              "       6.83944527, 3.76006125, 5.06792509, 4.3660209 , 6.91067211,\n",
              "       4.94872343, 4.64047967, 5.83610098, 5.25013601, 5.44752199,\n",
              "       3.97745088, 4.88502884, 4.20357869, 3.61242514, 5.23497765,\n",
              "       5.30389191, 5.86527569, 4.7998455 , 4.79631509, 6.80365107,\n",
              "       3.36716513, 4.39738303, 4.2984539 , 6.96423309, 4.49871226,\n",
              "       5.52039163, 4.80019658, 5.61272398, 3.05186387, 5.34227344,\n",
              "       3.34081622, 3.97104144, 5.13918234, 4.3799832 , 5.06134113,\n",
              "       6.28670339, 4.90206069, 5.25595629, 5.69828195, 4.2101123 ,\n",
              "       5.23206178, 5.48921762, 4.37075203, 3.94811688, 4.15121055,\n",
              "       2.74849187, 4.0655346 , 3.1320241 , 4.55300081, 4.80245917,\n",
              "       5.74892322, 3.26185924, 3.53812194, 6.17778705, 4.23622518,\n",
              "       5.82374062, 3.41359675, 3.83978173, 4.96307809, 5.74303957,\n",
              "       5.20656204, 5.22395319, 5.25945048, 5.43876002, 3.83969328,\n",
              "       3.49918958, 5.39730914, 4.44473726, 4.37572429, 4.43688023,\n",
              "       4.22547242, 4.86897924, 5.84864412, 4.04130028, 3.53265699,\n",
              "       3.18748055, 4.62123819, 6.02948761, 4.69902367, 6.75306412,\n",
              "       4.36369869, 7.09943564, 3.63055515, 6.85938884, 5.95013438,\n",
              "       4.85771673, 3.32284687, 3.07438144, 4.97033796, 5.04698288,\n",
              "       2.26308807, 3.36965541, 3.93673471, 5.25273853, 5.72696682,\n",
              "       5.4200861 , 4.63576998, 4.0827287 , 3.9198381 , 5.48236208,\n",
              "       6.3839034 , 4.60023198, 5.78586636, 4.9806571 , 4.79781344,\n",
              "       5.75179678, 6.64970438, 3.7910615 , 5.26210317, 5.06006425,\n",
              "       5.27013168, 4.06623275, 4.90212373, 3.99490228, 5.22160953,\n",
              "       5.4084491 , 4.58314607, 4.22235116, 4.77844861, 4.81397483,\n",
              "       5.20935065, 4.23445049, 4.982402  , 4.94957612, 4.87367341,\n",
              "       4.81078123, 3.13127101, 3.71024108, 5.64602675, 4.81458522,\n",
              "       3.62625391, 4.97601472, 4.8122255 , 4.45918265, 5.6372598 ,\n",
              "       6.18903579, 2.48233694, 4.26886435, 4.33422528, 4.90868271,\n",
              "       5.18281387, 3.47607566])"
            ]
          },
          "metadata": {},
          "execution_count": 44
        }
      ]
    },
    {
      "cell_type": "code",
      "source": [
        "# Discussion\n",
        "# are we done?\n",
        "# what do we predict?\n",
        "# how will you interpret this predictions?\n",
        "\n",
        "\n",
        "# Inverse transformation\n",
        "# every transformation has an inverse transformation Timber transformation of the\n",
        "# function is equal to X is inverse f of x is equal to x square\n",
        "# #for example box Cooks has an inverse transformation as well notice that we\n",
        "# have to pass in the land of value that we found from before\n"
      ],
      "metadata": {
        "id": "uSEpODaBcQdx"
      },
      "execution_count": null,
      "outputs": []
    },
    {
      "cell_type": "code",
      "source": [
        "from scipy.special import inv_boxcox"
      ],
      "metadata": {
        "id": "p1ktPiPzXHwn"
      },
      "execution_count": null,
      "outputs": []
    },
    {
      "cell_type": "code",
      "source": [
        "\n",
        "# The inv_boxcox function is a part of the scipy.special subpackage.\n",
        "# It is used to compute the inverse of the Box-Cox transformation,\n",
        "# which is a method used to transform non-normal data to have a\n",
        "# normal distribution."
      ],
      "metadata": {
        "id": "gc4u5V_KcQWq"
      },
      "execution_count": null,
      "outputs": []
    },
    {
      "cell_type": "code",
      "source": [
        "#code from above\n",
        "bc_result = boxcox(df.MEDV)\n",
        "boxcox_medv = bc_result[0]\n",
        "lam = bc_result[1]"
      ],
      "metadata": {
        "id": "dvQmZFRrcs61"
      },
      "execution_count": null,
      "outputs": []
    },
    {
      "cell_type": "code",
      "source": [
        "bc_result"
      ],
      "metadata": {
        "colab": {
          "base_uri": "https://localhost:8080/"
        },
        "id": "JqnAeFRsew1R",
        "outputId": "d15a0ffa-bb38-4d95-eee9-dc52fc268587"
      },
      "execution_count": null,
      "outputs": [
        {
          "output_type": "execute_result",
          "data": {
            "text/plain": [
              "(array([4.57293637, 4.36558166, 5.33694273, 5.25495447, 5.42860689,\n",
              "        4.93592663, 4.48001683, 4.81796329, 3.85654088, 4.10949441,\n",
              "        3.68340136, 4.10949441, 4.37457314, 4.25505556, 4.03844836,\n",
              "        4.20749535, 4.49716757, 3.96522837, 4.23614226, 4.03844836,\n",
              "        3.50909851, 4.17850811, 3.70724917, 3.62267296, 3.75421675,\n",
              "        3.54759408, 3.86763825, 3.65930314, 4.05896259, 4.31093716,\n",
              "        3.38947462, 3.62267296, 3.45672253, 3.44343457, 3.49611884,\n",
              "        4.10949441, 4.21708168, 4.31093716, 4.63034334, 5.08317362,\n",
              "        5.34934183, 4.77998166, 4.67854354, 4.63034334, 4.32928636,\n",
              "        4.14917118, 4.21708168, 3.86763825, 3.61033098, 4.15898961,\n",
              "        4.18820891, 4.26445779, 4.65455672, 4.52267685, 4.10949441,\n",
              "        5.3800978 , 4.63034334, 5.1372014 , 4.51420237, 4.17850811,\n",
              "        4.08940884, 3.80025017, 4.41904971, 4.65455672, 5.2292247 ,\n",
              "        4.53112301, 4.15898961, 4.40135419, 3.95458193, 4.30171118,\n",
              "        4.58947077, 4.37457314, 4.47139742, 4.52267685, 4.58121701,\n",
              "        4.34750044, 4.21708168, 4.29245055, 4.32928636, 4.24561716,\n",
              "        4.88496846, 4.56462866, 4.63843994, 4.48001683, 4.56462866,\n",
              "        4.77998166, 4.44536027, 4.41904971, 4.53954106, 4.93592663,\n",
              "        4.45406938, 4.40135419, 4.48001683, 4.65455672, 4.27382416,\n",
              "        4.91420798, 4.34750044, 5.57497399, 5.85196639, 5.24211994,\n",
              "        4.84795531, 4.77231832, 4.07930288, 4.14917118, 4.22663054,\n",
              "        4.16876846, 4.16876846, 4.25505556, 4.19787121, 4.15898961,\n",
              "        4.37457314, 4.47139742, 4.09947255, 4.08940884, 4.06915427,\n",
              "        4.04872743, 4.32928636, 4.13931283, 4.25505556, 4.14917118,\n",
              "        4.40135419, 4.24561716, 4.26445779, 3.94388745, 4.09947255,\n",
              "        4.34750044, 3.76581102, 3.82292958, 4.01775677, 3.59792167,\n",
              "        4.13931283, 4.17850811, 4.4886068 , 4.05896259, 3.75421675,\n",
              "        4.02812495, 3.95458193, 3.92235239, 3.46993187, 3.99688428,\n",
              "        3.56028128, 3.61033098, 3.48306363, 3.75421675, 3.2630138 ,\n",
              "        3.53483518, 3.75421675, 3.63494845, 3.99688428, 3.73085242,\n",
              "        4.35655752, 4.17850811, 3.71908101, 4.15898961, 3.91151078,\n",
              "        3.75421675, 3.44343457, 5.7195379 , 4.59769786, 4.51420237,\n",
              "        4.81041115, 6.15652607, 6.15652607, 6.15652607, 4.46274835,\n",
              "        4.65455672, 6.15652607, 4.55629368, 4.55629368, 4.42785068,\n",
              "        3.95458193, 4.12941417, 4.49716757, 4.53954106, 4.45406938,\n",
              "        4.98592025, 4.50569935, 4.62222102, 5.02106203, 5.48807609,\n",
              "        5.63703686, 5.42860689, 5.52896357, 5.19671664, 4.76463229,\n",
              "        5.00003273, 6.15652607, 5.16381441, 5.01407071, 5.34934183,\n",
              "        5.47628332, 5.06262961, 5.44060278, 5.10356146, 4.96460985,\n",
              "        6.15652607, 5.24854476, 5.0488455 , 5.33072218, 5.34934183,\n",
              "        5.22275411, 4.58121701, 5.77324341, 6.08567947, 6.15652607,\n",
              "        4.45406938, 4.60589847, 4.44536027, 4.60589847, 4.21708168,\n",
              "        4.37457314, 4.14917118, 4.43662078, 4.89230887, 4.54793121,\n",
              "        4.65455672, 4.51420237, 4.93592663, 4.35655752, 4.4886068 ,\n",
              "        4.78762246, 4.37457314, 4.84795531, 5.03498992, 5.90328261,\n",
              "        6.15652607, 5.51151342, 5.1372014 , 5.99836093, 5.13050694,\n",
              "        4.59769786, 5.14387928, 5.74114106, 6.07610405, 4.95746814,\n",
              "        4.57293637, 4.66257726, 5.13050694, 4.54793121, 4.51420237,\n",
              "        4.40135419, 4.22663054, 4.41904971, 4.54793121, 3.97582725,\n",
              "        4.06915427, 4.59769786, 4.26445779, 4.6140728 , 4.74919156,\n",
              "        4.60589847, 4.63843994, 5.00003273, 5.799724  , 4.39245914,\n",
              "        4.30171118, 5.86230253, 6.15652607, 5.41655897, 5.03498992,\n",
              "        5.28044397, 5.81549623, 6.09998476, 5.0967827 , 5.44658138,\n",
              "        4.47139742, 5.0763431 , 6.15652607, 5.83639265, 4.28315498,\n",
              "        4.32012879, 4.67057281, 4.60589847, 5.3678365 , 5.19016808,\n",
              "        5.16381441, 5.24211994, 5.23567995, 4.96460985, 5.36168538,\n",
              "        5.93364307, 5.3800978 , 5.96369082, 6.15652607, 5.1770233 ,\n",
              "        4.40135419, 4.22663054, 4.50569935, 4.42785068, 4.63843994,\n",
              "        4.92146742, 5.49395386, 4.87760749, 4.56462866, 4.37457314,\n",
              "        4.92870692, 4.81796329, 4.24561716, 4.44536027, 4.95746814,\n",
              "        4.63843994, 4.40135419, 4.76463229, 5.23567995, 5.42258947,\n",
              "        4.91420798, 5.25495447, 4.89962884, 4.47139742, 4.24561716,\n",
              "        3.81161746, 4.41021763, 4.15898961, 4.36558166, 4.55629368,\n",
              "        3.82292958, 3.99688428, 4.19787121, 4.49716757, 4.31093716,\n",
              "        4.55629368, 4.49716757, 4.25505556, 4.06915427, 4.65455672,\n",
              "        4.62222102, 4.4886068 , 4.41904971, 4.14917118, 4.45406938,\n",
              "        4.19787121, 3.92235239, 4.15898961, 4.41904971, 4.28315498,\n",
              "        4.32012879, 4.16876846, 4.06915427, 4.27382416, 4.11947482,\n",
              "        4.08940884, 5.20976657, 3.85654088, 4.56462866, 5.11032317,\n",
              "        3.96522837, 3.93314444, 4.49716757, 4.6140728 , 4.77998166,\n",
              "        4.48001683, 4.58121701, 4.07930288, 5.03498992, 4.03844836,\n",
              "        4.27382416, 3.99688428, 4.37457314, 4.46274835, 4.45406938,\n",
              "        4.65455672, 4.20749535, 4.29245055, 3.88967681, 4.39245914,\n",
              "        4.84795531, 4.39245914, 4.49716757, 6.15652607, 6.15652607,\n",
              "        6.15652607, 6.15652607, 6.15652607, 3.53483518, 3.53483518,\n",
              "        3.68340136, 3.54759408, 3.46993187, 3.44343457, 3.01819163,\n",
              "        3.05037296, 3.1287559 , 3.18945869, 3.33416642, 2.77789369,\n",
              "        2.46335537, 3.06628215, 2.50549977, 3.01819163, 3.21918087,\n",
              "        3.6953562 , 4.50569935, 2.93551931, 3.53483518, 3.38947462,\n",
              "        3.44343457, 3.36199384, 2.7225443 , 1.92564954, 2.26150315,\n",
              "        2.08823927, 2.46335537, 3.30598225, 2.68478853, 2.7225443 ,\n",
              "        1.92564954, 3.27743075, 4.87760749, 3.93314444, 4.84795531,\n",
              "        3.68340136, 3.93314444, 4.00734336, 3.83418713, 2.42028366,\n",
              "        2.46335537, 2.52623818, 3.05037296, 2.77789369, 2.70375445,\n",
              "        3.87868337, 3.58544419, 4.29245055, 3.48306363, 3.24850083,\n",
              "        2.68478853, 3.01819163, 3.1287559 , 3.14409313, 2.90151373,\n",
              "        3.62267296, 3.57289769, 3.81161746, 3.59792167, 3.24850083,\n",
              "        3.48306363, 2.9185859 , 2.75961042, 2.70375445, 3.40308806,\n",
              "        3.06628215, 3.92235239, 4.05896259, 3.73085242, 3.11330805,\n",
              "        3.2630138 , 3.67138393, 3.37577694, 3.57289769, 3.4300669 ,\n",
              "        3.48306363, 3.70724917, 3.81161746, 3.99688428, 3.67138393,\n",
              "        3.57289769, 3.38947462, 3.49611884, 3.67138393, 4.21708168,\n",
              "        3.8453907 , 3.98637906, 4.16876846, 4.23614226, 4.34750044,\n",
              "        4.20749535, 4.11947482, 4.12941417, 4.12941417, 4.22663054,\n",
              "        4.20749535, 4.17850811, 4.50569935, 5.01407071, 3.53483518,\n",
              "        3.46993187, 3.87868337, 3.2917531 , 3.63494845, 4.34750044,\n",
              "        4.4886068 , 4.54793121, 4.65455672, 4.3835322 , 4.27382416,\n",
              "        4.32928636, 4.12941417, 4.27382416, 3.70724917, 2.42028366,\n",
              "        2.6463132 , 3.50909851, 4.22663054, 4.3835322 , 4.6140728 ,\n",
              "        4.49716757, 4.18820891, 4.04872743, 4.32928636, 3.96522837,\n",
              "        3.88967681, 4.43662078, 4.27382416, 4.56462866, 4.40135419,\n",
              "        3.27743075]),\n",
              " 0.2166209012915364)"
            ]
          },
          "metadata": {},
          "execution_count": 54
        }
      ]
    },
    {
      "cell_type": "code",
      "source": [
        "boxcox_medv.shape"
      ],
      "metadata": {
        "colab": {
          "base_uri": "https://localhost:8080/"
        },
        "id": "e1pA9MYOewx6",
        "outputId": "7d52cfaf-ae90-400a-ba23-e3d86a99d364"
      },
      "execution_count": null,
      "outputs": [
        {
          "output_type": "execute_result",
          "data": {
            "text/plain": [
              "(506,)"
            ]
          },
          "metadata": {},
          "execution_count": 53
        }
      ]
    },
    {
      "cell_type": "code",
      "source": [
        "lam"
      ],
      "metadata": {
        "colab": {
          "base_uri": "https://localhost:8080/"
        },
        "id": "qQrMLiwVewd0",
        "outputId": "edd62a5f-f3be-464c-aa4e-3c63b0793bf7"
      },
      "execution_count": null,
      "outputs": [
        {
          "output_type": "execute_result",
          "data": {
            "text/plain": [
              "0.2166209012915364"
            ]
          },
          "metadata": {},
          "execution_count": 51
        }
      ]
    },
    {
      "cell_type": "code",
      "source": [
        "boxcox_medv[:10]"
      ],
      "metadata": {
        "colab": {
          "base_uri": "https://localhost:8080/"
        },
        "id": "EuEn4HpefQtm",
        "outputId": "21ba94d9-b042-4831-f7f0-68fd0b14af93"
      },
      "execution_count": null,
      "outputs": [
        {
          "output_type": "execute_result",
          "data": {
            "text/plain": [
              "array([4.57293637, 4.36558166, 5.33694273, 5.25495447, 5.42860689,\n",
              "       4.93592663, 4.48001683, 4.81796329, 3.85654088, 4.10949441])"
            ]
          },
          "metadata": {},
          "execution_count": 55
        }
      ]
    },
    {
      "cell_type": "code",
      "source": [
        "inv_boxcox(boxcox_medv, lam)[:10]"
      ],
      "metadata": {
        "colab": {
          "base_uri": "https://localhost:8080/"
        },
        "id": "93qT8qGnfQkz",
        "outputId": "ab910729-2f24-4d33-ddc4-a85c3589ff85"
      },
      "execution_count": null,
      "outputs": [
        {
          "output_type": "execute_result",
          "data": {
            "text/plain": [
              "array([24. , 21.6, 34.7, 33.4, 36.2, 28.7, 22.9, 27.1, 16.5, 18.9])"
            ]
          },
          "metadata": {},
          "execution_count": 56
        }
      ]
    },
    {
      "cell_type": "code",
      "source": [
        "boston_data['MEDV'].values[:10]"
      ],
      "metadata": {
        "colab": {
          "base_uri": "https://localhost:8080/"
        },
        "id": "eRh69boyfuhE",
        "outputId": "be6f02e7-ae40-42a4-8c4d-e5eb4998b68e"
      },
      "execution_count": null,
      "outputs": [
        {
          "output_type": "execute_result",
          "data": {
            "text/plain": [
              "array([24. , 21.6, 34.7, 33.4, 36.2, 28.7, 22.9, 27.1, 16.5, 18.9])"
            ]
          },
          "metadata": {},
          "execution_count": 57
        }
      ]
    },
    {
      "cell_type": "code",
      "source": [
        "# exactly the same as we hope!\n",
        "# question 1:\n",
        "# apply the appropiate transformation to the y_pred_bc\n",
        "# 2. Calculate the R^2 using the result\n",
        "# of this inverse transformation and y_test\n",
        "\n",
        "#hint should be two lines of code."
      ],
      "metadata": {
        "id": "el2bEF-Ef12b"
      },
      "execution_count": null,
      "outputs": []
    },
    {
      "cell_type": "code",
      "source": [
        "y_pred_tran = inv_boxcox(y_pred_bc, lam2)\n",
        "r2_score(y_pred_tran, y_test)"
      ],
      "metadata": {
        "colab": {
          "base_uri": "https://localhost:8080/"
        },
        "id": "yWLs5rGcf1wK",
        "outputId": "dabe7711-e257-43ac-c4e3-1d9e5c2c09f0"
      },
      "execution_count": null,
      "outputs": [
        {
          "output_type": "execute_result",
          "data": {
            "text/plain": [
              "0.8798635748248219"
            ]
          },
          "metadata": {},
          "execution_count": 58
        }
      ]
    },
    {
      "cell_type": "code",
      "source": [
        "# Determine the R^2 of a LinearRegresion without box cox transformation. Is it higher or lower?\n"
      ],
      "metadata": {
        "id": "0WSI5ut5mI-j"
      },
      "execution_count": null,
      "outputs": []
    },
    {
      "cell_type": "code",
      "source": [
        "lr = LinearRegression()\n",
        "lr.fit(X_train_s, y_train)\n",
        "lr_pred = lr.predict(X_test_s)\n",
        "r2_score(lr_pred, y_test)"
      ],
      "metadata": {
        "colab": {
          "base_uri": "https://localhost:8080/"
        },
        "id": "0tQ8Sd4WmYq2",
        "outputId": "6a632b0d-b90f-4d6b-fd06-14b3b0a3fff9"
      },
      "execution_count": null,
      "outputs": [
        {
          "output_type": "execute_result",
          "data": {
            "text/plain": [
              "0.8558518908813469"
            ]
          },
          "metadata": {},
          "execution_count": 59
        }
      ]
    }
  ]
}